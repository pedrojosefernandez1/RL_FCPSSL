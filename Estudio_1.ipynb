{
  "cells": [
    {
      "cell_type": "markdown",
      "metadata": {
        "colab_type": "text",
        "id": "view-in-github"
      },
      "source": [
        "<a href=\"https://colab.research.google.com/github/ldaniel-hm/eml_k_bandit/blob/main/MonteCarloTodasLasVisitas.ipynb\" target=\"_parent\"><img src=\"https://colab.research.google.com/assets/colab-badge.svg\" alt=\"Open In Colab\"/></a>"
      ]
    },
    {
      "cell_type": "markdown",
      "metadata": {
        "id": "SipaVo-gz1ey"
      },
      "source": [
        "# **Monte Carlo con Políticas epsilon-soft**\n",
        "\n",
        "_Esto es un ejemplo de uso de Gymnasium e informe sobre un experimento de aprendizaje por refuerzo_\n",
        "\n",
        "````\n",
        "Luis D. Hernández.\n",
        "<ldaniel at um.es>\n",
        "````\n",
        "\n",
        "Este notebook describe un experimento de aprendizaje por refuerzo utilizando el algoritmo de Monte Carlo con políticas epsilon-soft. El propósito de este análisis es entrenar un agente en un entorno de gym con el juego \"FrozenLake\", un entorno estándar en el que el agente debe aprender a moverse a través de un mapa en busca de una meta, evitando caer en agujeros. A continuación, se presenta una descripción de las diferentes partes del código y el proceso utilizado en el experimento."
      ]
    },
    {
      "cell_type": "markdown",
      "metadata": {
        "id": "loCIjd-T0AVg"
      },
      "source": [
        "## **1. Preparación del Entorno**"
      ]
    },
    {
      "cell_type": "markdown",
      "metadata": {
        "id": "e2MTvyPWcU2q"
      },
      "source": [
        "La preparación consta de las siguientes partes:\n",
        "- **Instalación de Dependencias**: Se instalan las librerías necesarias para utilizar el entorno `gymnasium` para la simulación, con el objetivo de crear un ambiente controlado para que el agente pueda interactuar.\n",
        "- **Importación de Librerías**: Se importan las bibliotecas necesarias como `numpy` para el manejo de matrices y `matplotlib` para la visualización de los resultados.\n",
        "\n",
        "- **Importación del Entorno \"FrozenLake\"**:\n",
        "Se cargan dos versiones del entorno \"FrozenLake\": una de 4x4 y otra de 8x8. Ambas versiones no son resbaladizas, lo que facilita la comprensión de los resultados, dado que el entorno resbaladizo podría dificultar la comprensión inicial del aprendizaje.\n",
        "\n",
        "#### 3. **Funciones para Mostrar los Resultados**\n",
        "   - Se define una función para graficar la proporción de recompensas obtenidas en cada episodio del entrenamiento. Esto ayuda a visualizar el progreso del agente en términos de su desempeño durante el entrenamiento.\n",
        "\n"
      ]
    },
    {
      "cell_type": "markdown",
      "metadata": {
        "id": "0P7_98YrcsZw"
      },
      "source": [
        "##### _________ **Código de la Instalación e Importación**\n",
        "----"
      ]
    },
    {
      "cell_type": "code",
      "execution_count": 1,
      "metadata": {
        "cellView": "form",
        "id": "s-wSiHxNyuBH"
      },
      "outputs": [],
      "source": [
        "\n",
        "#@title Instalamos gym\n",
        "#! pip install 'gym[box2d]==0.20.0'\n",
        "#! pip install tqdm\n",
        "#! pip install gymnasium\n",
        "#! pip install \"gymnasium[toy-text]\n",
        "#! pip install \"gymnasium[other]\n",
        "#!pip install tiles3\n",
        "## Instalación de algunos paquetes.\n",
        "#!apt-get update\n",
        "## Para usar gymnasium[box2d]\n",
        "#!pip install swig\n",
        "\n",
        "#! pip install Box2D gym ----> solucion"
      ]
    },
    {
      "cell_type": "code",
      "execution_count": 2,
      "metadata": {
        "cellView": "form",
        "id": "o5s4pz9Hzk7r"
      },
      "outputs": [
        {
          "name": "stdout",
          "output_type": "stream",
          "text": [
            "['C:\\\\Users\\\\user\\\\AppData\\\\Local\\\\Programs\\\\Python\\\\Python313\\\\python313.zip', 'C:\\\\Users\\\\user\\\\AppData\\\\Local\\\\Programs\\\\Python\\\\Python313\\\\DLLs', 'C:\\\\Users\\\\user\\\\AppData\\\\Local\\\\Programs\\\\Python\\\\Python313\\\\Lib', 'C:\\\\Users\\\\user\\\\AppData\\\\Local\\\\Programs\\\\Python\\\\Python313', 'e:\\\\Proyectos personales Y cosiscas mias\\\\Trabajo-Uni\\\\MASTER\\\\EML\\\\RL_FCPSSL\\\\.venv', '', 'e:\\\\Proyectos personales Y cosiscas mias\\\\Trabajo-Uni\\\\MASTER\\\\EML\\\\RL_FCPSSL\\\\.venv\\\\Lib\\\\site-packages', 'e:\\\\Proyectos personales Y cosiscas mias\\\\Trabajo-Uni\\\\MASTER\\\\EML\\\\RL_FCPSSL\\\\.venv\\\\Lib\\\\site-packages\\\\win32', 'e:\\\\Proyectos personales Y cosiscas mias\\\\Trabajo-Uni\\\\MASTER\\\\EML\\\\RL_FCPSSL\\\\.venv\\\\Lib\\\\site-packages\\\\win32\\\\lib', 'e:\\\\Proyectos personales Y cosiscas mias\\\\Trabajo-Uni\\\\MASTER\\\\EML\\\\RL_FCPSSL\\\\.venv\\\\Lib\\\\site-packages\\\\Pythonwin', 'src']\n"
          ]
        }
      ],
      "source": [
        "#@title Importamos librerias\n",
        "import numpy as np\n",
        "import matplotlib.pyplot as plt\n",
        "from tqdm import tqdm\n",
        "import gymnasium as gym\n",
        "\n",
        "import sys\n",
        "\n",
        "sys.path.append('src')\n",
        "\n",
        "print(sys.path)\n",
        "\n",
        "from plotting import plot_episode_rewards, plot_len_episodes, render_episode, show_images_grid\n"
      ]
    },
    {
      "cell_type": "code",
      "execution_count": 3,
      "metadata": {},
      "outputs": [],
      "source": [
        "def id_ft_ext(state):\n",
        "    return np.array(state)"
      ]
    },
    {
      "cell_type": "code",
      "execution_count": 4,
      "metadata": {},
      "outputs": [
        {
          "name": "stderr",
          "output_type": "stream",
          "text": [
            "e:\\Proyectos personales Y cosiscas mias\\Trabajo-Uni\\MASTER\\EML\\RL_FCPSSL\\.venv\\Lib\\site-packages\\gymnasium\\wrappers\\rendering.py:283: UserWarning: \u001b[33mWARN: Overwriting existing videos at e:\\Proyectos personales Y cosiscas mias\\Trabajo-Uni\\MASTER\\EML\\RL_FCPSSL\\videos\\CartPole-v1\\SarsaSemiGradientEpsilonGreedyAgent(gamma0.99_alpha0.5_alpha_decay0.9995_min_alpha0.001_epsilon1_epsilon_decay0.9995_min_epsilon0.01) folder (try specifying a different `video_folder` for the `RecordVideo` wrapper if this is not desired)\u001b[0m\n",
            "  logger.warn(\n"
          ]
        },
        {
          "ename": "IndexError",
          "evalue": "arrays used as indices must be of integer (or boolean) type",
          "output_type": "error",
          "traceback": [
            "\u001b[1;31m---------------------------------------------------------------------------\u001b[0m",
            "\u001b[1;31mIndexError\u001b[0m                                Traceback (most recent call last)",
            "Cell \u001b[1;32mIn[4], line 18\u001b[0m\n\u001b[0;32m     13\u001b[0m \u001b[38;5;66;03m# agent = MonteCarloEpsilonGreedyAgent(env, epsilon=0.4, epsilon_decay=1)\u001b[39;00m\n\u001b[0;32m     14\u001b[0m \u001b[38;5;66;03m# agent = QLearningEpsilonGreedyAgent(env, epsilon=1, gamma=0.99, alpha=1, epsilon_decay=0.995, min_epsilon=0.01)\u001b[39;00m\n\u001b[0;32m     15\u001b[0m \u001b[38;5;66;03m# agent = SarsaEpsilonGreedyAgent(env, epsilon=1, gamma=0.99, alpha=1, epsilon_decay=0.995, min_epsilon=0.01)\u001b[39;00m\n\u001b[0;32m     16\u001b[0m agent \u001b[38;5;241m=\u001b[39m SarsaSemiGradientEpsilonGreedyAgent(env_cart, epsilon\u001b[38;5;241m=\u001b[39m\u001b[38;5;241m1\u001b[39m, gamma\u001b[38;5;241m=\u001b[39m\u001b[38;5;241m0.99\u001b[39m, alpha\u001b[38;5;241m=\u001b[39m\u001b[38;5;241m0.5\u001b[39m, min_alpha\u001b[38;5;241m=\u001b[39m\u001b[38;5;241m0.001\u001b[39m, epsilon_decay\u001b[38;5;241m=\u001b[39m\u001b[38;5;241m0.9995\u001b[39m, alpha_decay\u001b[38;5;241m=\u001b[39m\u001b[38;5;241m0.9995\u001b[39m, min_epsilon\u001b[38;5;241m=\u001b[39m\u001b[38;5;241m0.01\u001b[39m)\n\u001b[1;32m---> 18\u001b[0m \u001b[43magent\u001b[49m\u001b[38;5;241;43m.\u001b[39;49m\u001b[43mtrain\u001b[49m\u001b[43m(\u001b[49m\u001b[43mn_episodes\u001b[49m\u001b[43m,\u001b[49m\u001b[43m \u001b[49m\u001b[43mrender_interval\u001b[49m\u001b[38;5;241;43m=\u001b[39;49m\u001b[38;5;241;43m1000\u001b[39;49m\u001b[43m,\u001b[49m\u001b[43m \u001b[49m\u001b[43mvideo_path\u001b[49m\u001b[38;5;241;43m=\u001b[39;49m\u001b[38;5;124;43m'\u001b[39;49m\u001b[38;5;124;43mvideos\u001b[39;49m\u001b[38;5;124;43m'\u001b[39;49m\u001b[43m)\u001b[49m\n\u001b[0;32m     20\u001b[0m stats \u001b[38;5;241m=\u001b[39m agent\u001b[38;5;241m.\u001b[39mstats()\n",
            "File \u001b[1;32me:\\Proyectos personales Y cosiscas mias\\Trabajo-Uni\\MASTER\\EML\\RL_FCPSSL\\src\\agents\\approximation_methods\\sarsa\\sarsa_semi_gradient.py:84\u001b[0m, in \u001b[0;36mSarsaSemiGradientAgent.train\u001b[1;34m(self, num_episodes, render_interval, video_path)\u001b[0m\n\u001b[0;32m     81\u001b[0m \u001b[38;5;28msuper\u001b[39m()\u001b[38;5;241m.\u001b[39mtrain(num_episodes, render_interval, video_path)  \u001b[38;5;66;03m# Configuración de video\u001b[39;00m\n\u001b[0;32m     83\u001b[0m state, info \u001b[38;5;241m=\u001b[39m \u001b[38;5;28mself\u001b[39m\u001b[38;5;241m.\u001b[39menv\u001b[38;5;241m.\u001b[39mreset()\n\u001b[1;32m---> 84\u001b[0m action \u001b[38;5;241m=\u001b[39m \u001b[38;5;28;43mself\u001b[39;49m\u001b[38;5;241;43m.\u001b[39;49m\u001b[43mget_action\u001b[49m\u001b[43m(\u001b[49m\u001b[43mstate\u001b[49m\u001b[43m,\u001b[49m\u001b[43m \u001b[49m\u001b[43minfo\u001b[49m\u001b[43m)\u001b[49m\n\u001b[0;32m     85\u001b[0m \u001b[38;5;28;01mfor\u001b[39;00m episode \u001b[38;5;129;01min\u001b[39;00m tqdm(\u001b[38;5;28mrange\u001b[39m(num_episodes)):\n\u001b[0;32m     86\u001b[0m     done \u001b[38;5;241m=\u001b[39m \u001b[38;5;28;01mFalse\u001b[39;00m\n",
            "File \u001b[1;32me:\\Proyectos personales Y cosiscas mias\\Trabajo-Uni\\MASTER\\EML\\RL_FCPSSL\\src\\agents\\approximation_methods\\sarsa\\sarsa_semi_gradient_epsilongreedy.py:40\u001b[0m, in \u001b[0;36mSarsaSemiGradientEpsilonGreedyAgent.get_action\u001b[1;34m(self, state, info)\u001b[0m\n\u001b[0;32m     36\u001b[0m \u001b[38;5;28;01mdef\u001b[39;00m\u001b[38;5;250m \u001b[39m\u001b[38;5;21mget_action\u001b[39m(\u001b[38;5;28mself\u001b[39m, state, info):\n\u001b[0;32m     37\u001b[0m \u001b[38;5;250m    \u001b[39m\u001b[38;5;124;03m\"\"\"\u001b[39;00m\n\u001b[0;32m     38\u001b[0m \u001b[38;5;124;03m    Selecciona una acción usando la política ε-greedy con función de aproximación.\u001b[39;00m\n\u001b[0;32m     39\u001b[0m \u001b[38;5;124;03m    \"\"\"\u001b[39;00m\n\u001b[1;32m---> 40\u001b[0m     \u001b[38;5;28mprint\u001b[39m(\u001b[38;5;28;43mself\u001b[39;49m\u001b[38;5;241;43m.\u001b[39;49m\u001b[43mweights\u001b[49m\u001b[43m[\u001b[49m\u001b[43m:\u001b[49m\u001b[43m,\u001b[49m\u001b[43m \u001b[49m\u001b[38;5;28;43mself\u001b[39;49m\u001b[38;5;241;43m.\u001b[39;49m\u001b[43mfeature_extractor\u001b[49m\u001b[43m(\u001b[49m\u001b[43mstate\u001b[49m\u001b[43m)\u001b[49m\u001b[43m]\u001b[49m)\n\u001b[0;32m     42\u001b[0m     \u001b[38;5;28;01mreturn\u001b[39;00m EpsilonGreedy\u001b[38;5;241m.\u001b[39mget_action(\u001b[38;5;28mself\u001b[39m, state, info, Q_function\u001b[38;5;241m=\u001b[39m\u001b[38;5;28;01mlambda\u001b[39;00m s: np\u001b[38;5;241m.\u001b[39marray([np\u001b[38;5;241m.\u001b[39msum(\u001b[38;5;28mself\u001b[39m\u001b[38;5;241m.\u001b[39mweights[a, \u001b[38;5;28mself\u001b[39m\u001b[38;5;241m.\u001b[39mfeature_extractor(s)]) \u001b[38;5;28;01mfor\u001b[39;00m a \u001b[38;5;129;01min\u001b[39;00m \u001b[38;5;28mrange\u001b[39m(\u001b[38;5;28mself\u001b[39m\u001b[38;5;241m.\u001b[39mnA)]), action_space\u001b[38;5;241m=\u001b[39m\u001b[38;5;28mself\u001b[39m\u001b[38;5;241m.\u001b[39mnA)\n",
            "\u001b[1;31mIndexError\u001b[0m: arrays used as indices must be of integer (or boolean) type"
          ]
        }
      ],
      "source": [
        "from agents import MonteCarloEpsilonGreedyAgent, SarsaEpsilonGreedyAgent, QLearningEpsilonGreedyAgent, SarsaSemiGradientEpsilonGreedyAgent\n",
        "#env = gym.make(\"FrozenLake-v1\", is_slippery=True, render_mode=None)\n",
        "#n_episodes = 10000\n",
        "np.random.seed(32) \n",
        "n_episodes = 30000\n",
        "#env = gym.make('FrozenLake-v1', is_slippery=False, map_name=\"4x4\", render_mode=\"rgb_array\", max_episode_steps=500) # No resbaladizo para entender mejor los resultados.\n",
        "#env = gym.make('Taxi-v3', render_mode=\"rgb_array\", max_episode_steps=500) # No resbaladizo para entender mejor los resultados.\n",
        "#env_lunar = gym.make('LunarLander-v3', render_mode=\"rgb_array\", continuous=False)\n",
        "env_cart = gym.make(\"CartPole-v1\", render_mode='rgb_array')\n",
        "#env = gym.make('FrozenLake-v1', is_slippery=False, map_name=\"4x4\", render_mode=\"rgb_array\") # No resbaladizo para entender mejor los resultados.\n",
        "env2 = gym.make('FrozenLake-v1', is_slippery=False, map_name=\"4x4\", render_mode=\"ansi\") # No resbaladizo para entender mejor los resultados.\n",
        "\n",
        "# agent = MonteCarloEpsilonGreedyAgent(env, epsilon=0.4, epsilon_decay=1)\n",
        "# agent = QLearningEpsilonGreedyAgent(env, epsilon=1, gamma=0.99, alpha=1, epsilon_decay=0.995, min_epsilon=0.01)\n",
        "# agent = SarsaEpsilonGreedyAgent(env, epsilon=1, gamma=0.99, alpha=1, epsilon_decay=0.995, min_epsilon=0.01)\n",
        "agent = SarsaSemiGradientEpsilonGreedyAgent(env_cart, epsilon=1, gamma=0.99, alpha=0.5, min_alpha=0.001, epsilon_decay=0.9995, alpha_decay=0.9995, min_epsilon=0.01)\n",
        "\n",
        "agent.train(n_episodes, render_interval=1000, video_path='videos')\n",
        "\n",
        "stats = agent.stats()\n"
      ]
    },
    {
      "cell_type": "code",
      "execution_count": null,
      "metadata": {},
      "outputs": [],
      "source": [
        "identity_feature_extraction(env_lunar.observation_space.sample()).shape"
      ]
    },
    {
      "cell_type": "code",
      "execution_count": 7,
      "metadata": {},
      "outputs": [],
      "source": [
        "cumsum = np.cumsum(stats['episode_rewards'])"
      ]
    },
    {
      "cell_type": "code",
      "execution_count": 10,
      "metadata": {},
      "outputs": [
        {
          "ename": "TypeError",
          "evalue": "'numpy.int64' object is not callable",
          "output_type": "error",
          "traceback": [
            "\u001b[1;31m---------------------------------------------------------------------------\u001b[0m",
            "\u001b[1;31mTypeError\u001b[0m                                 Traceback (most recent call last)",
            "Cell \u001b[1;32mIn[10], line 3\u001b[0m\n\u001b[0;32m      1\u001b[0m array \u001b[38;5;241m=\u001b[39m np\u001b[38;5;241m.\u001b[39marray([\u001b[38;5;241m1\u001b[39m, \u001b[38;5;241m2\u001b[39m, \u001b[38;5;241m3\u001b[39m, \u001b[38;5;241m4\u001b[39m, \u001b[38;5;241m5\u001b[39m])\n\u001b[0;32m      2\u001b[0m array2 \u001b[38;5;241m=\u001b[39m np\u001b[38;5;241m.\u001b[39marray([\u001b[38;5;241m-\u001b[39m\u001b[38;5;241m1\u001b[39m, \u001b[38;5;241m-\u001b[39m\u001b[38;5;241m2\u001b[39m, \u001b[38;5;241m-\u001b[39m\u001b[38;5;241m3\u001b[39m, \u001b[38;5;241m-\u001b[39m\u001b[38;5;241m4\u001b[39m, \u001b[38;5;241m-\u001b[39m\u001b[38;5;241m5\u001b[39m])\n\u001b[1;32m----> 3\u001b[0m sum2 \u001b[38;5;241m=\u001b[39m \u001b[38;5;28;43msum\u001b[39;49m\u001b[43m(\u001b[49m\u001b[43mnp\u001b[49m\u001b[38;5;241;43m.\u001b[39;49m\u001b[43marray\u001b[49m\u001b[43m(\u001b[49m\u001b[43m[\u001b[49m\u001b[43marray\u001b[49m\u001b[43m,\u001b[49m\u001b[43marray2\u001b[49m\u001b[43m]\u001b[49m\u001b[43m)\u001b[49m\u001b[43m)\u001b[49m\n\u001b[0;32m      4\u001b[0m sum2\n",
            "\u001b[1;31mTypeError\u001b[0m: 'numpy.int64' object is not callable"
          ]
        }
      ],
      "source": [
        "array = np.array([1, 2, 3, 4, 5])\n",
        "array2 = np.array([-1, -2, -3, -4, -5])\n",
        "sum2 = sum(np.array([array,array2]))\n",
        "sum2"
      ]
    },
    {
      "cell_type": "code",
      "execution_count": 8,
      "metadata": {},
      "outputs": [
        {
          "name": "stdout",
          "output_type": "stream",
          "text": [
            "[2.70000e+01 3.60000e+01 6.40000e+01 ... 3.04069e+05 3.04079e+05\n",
            " 3.04089e+05]\n"
          ]
        }
      ],
      "source": [
        "print(cumsum)"
      ]
    },
    {
      "cell_type": "code",
      "execution_count": null,
      "metadata": {},
      "outputs": [
        {
          "data": {
            "image/png": "[encoded data removed]",
            "text/plain": [
              "<Figure size 600x300 with 1 Axes>"
            ]
          },
          "metadata": {},
          "output_type": "display_data"
        }
      ],
      "source": [
        "plot_episode_rewards(cumsum)"
      ]
    },
    {
      "cell_type": "code",
      "execution_count": null,
      "metadata": {},
      "outputs": [],
      "source": [
        "stats['episodes'][-1]"
      ]
    },
    {
      "cell_type": "code",
      "execution_count": null,
      "metadata": {},
      "outputs": [],
      "source": [
        "stats['Q-table']"
      ]
    },
    {
      "cell_type": "code",
      "execution_count": null,
      "metadata": {},
      "outputs": [],
      "source": [
        "plot_len_episodes(stats[\"episodes\"])\n"
      ]
    },
    {
      "cell_type": "code",
      "execution_count": null,
      "metadata": {},
      "outputs": [],
      "source": [
        "[len(episode) for episode in stats[\"episodes\"]]"
      ]
    },
    {
      "cell_type": "code",
      "execution_count": null,
      "metadata": {},
      "outputs": [],
      "source": [
        "import numpy as np\n",
        "\n",
        "def pi_star_from_Q(env, Q):\n",
        "    \"\"\"\n",
        "    Calcula la política óptima π* a partir de la tabla de valores Q.\n",
        "\n",
        "    Parámetros:\n",
        "        env: el entorno de Gymnasium.\n",
        "        Q: la Q-table aprendida (matriz de tamaño [S, A]).\n",
        "\n",
        "    Retorna:\n",
        "        - pi_star: un array donde cada estado tiene la acción óptima.\n",
        "        - actions: una representación en texto de las acciones seguidas en un episodio.\n",
        "    \"\"\"\n",
        "    pi_star = np.zeros(env.observation_space.n, dtype=int)  # Política óptima para cada estado\n",
        "    actions = \"\"\n",
        "\n",
        "    # Recorrer todos los estados y seleccionar la mejor acción de Q\n",
        "    for state in range(env.observation_space.n):\n",
        "        best_action = np.argmax(Q[state, :])  # Acción con mayor valor Q\n",
        "        pi_star[state] = best_action\n",
        "\n",
        "    # Simular un episodio siguiendo la política óptima para ver la secuencia de acciones\n",
        "    state, _ = env.reset()\n",
        "    done = False\n",
        "    while not done:\n",
        "        action = pi_star[state]\n",
        "        actions += f\"{action}, \"\n",
        "        state, reward, terminated, truncated, _ = env.step(action)\n",
        "        done = terminated or truncated\n",
        "\n",
        "    return pi_star, actions.strip(\", \")\n",
        "\n",
        "pi_star, actions = pi_star_from_Q(env, stats['Q-table'])"
      ]
    },
    {
      "cell_type": "code",
      "execution_count": null,
      "metadata": {},
      "outputs": [],
      "source": [
        "pi_star, actions"
      ]
    },
    {
      "cell_type": "code",
      "execution_count": null,
      "metadata": {
        "cellView": "form",
        "id": "0ogCwKft-Ki9"
      },
      "outputs": [],
      "source": [
        "#@title Importamos el lago helado\n",
        "name = 'FrozenLake-v1'\n",
        "env4 = gym.make(name, is_slippery=False, map_name=\"4x4\", render_mode=\"ansi\") # No resbaladizo para entender mejor los resultados.\n",
        "env8 = gym.make(name, is_slippery=False, map_name=\"8x8\", render_mode=\"ansi\") # No resbaladizo para entender mejor los resultados."
      ]
    },
    {
      "cell_type": "markdown",
      "metadata": {
        "id": "n1ySdi2wdXdm"
      },
      "source": [
        "## **2. Diseño del Agente**\n",
        "\n",
        "El diseño del agente consta de dos partes, el algoritmo con el que aprende y las políticas (toma de decisiones) que realiza.\n",
        "\n",
        "- **Políticas del Agente**\n",
        "   - **Política epsilon-soft**: Se define una política donde todas las acciones tienen una probabilidad de ser elegida.\n",
        "   - **Política epsilon-greedy**: basada en la política epsilon-soft. De esta forma el agente tiene una pequeña probabilidad de explorar (tomar una acción aleatoria) y una mayor probabilidad de explotar (tomar la acción que considera mejor). Esto permite equilibrar la exploración y la explotación.\n",
        "   - **Política greedy**: Es la usada una vez que \"ha aprendido\".\n",
        "\n",
        "- **Algoritmo de Iteración de Valor**\n",
        "  - Se implementa el algoritmo de iteración de valor utilizando Monte Carlo.\n",
        "  - Se usa una versión \"on-policy\" de Monte Carlo con políticas epsilon greedy sobre una política epsilon-soft.\n",
        "  - Se basa en el criterio de todas las visitas.\n",
        "  - Otro aspecto es que la actualización de los retornos no se realiza en el orden inverso a las visitas."
      ]
    },
    {
      "cell_type": "markdown",
      "metadata": {
        "id": "9vDI1gmKfDPT"
      },
      "source": [
        "#### **Código de las políticas y algoritmo MC**\n",
        "----------------"
      ]
    },
    {
      "cell_type": "code",
      "execution_count": null,
      "metadata": {
        "cellView": "form",
        "id": "lVEIYzaJ4p8N"
      },
      "outputs": [],
      "source": [
        "# @title Políticas del agente\n",
        "\n",
        "# actions\n",
        "LEFT, DOWN, RIGHT, UP = 0,1,2,3\n",
        "\n",
        "# Política epsilon-soft. Se usa para el entrenamiento\n",
        "def random_epsilon_greedy_policy(Q, epsilon, state, nA):\n",
        "    pi_A = np.ones(nA, dtype=float) * epsilon / nA\n",
        "    best_action = np.argmax(Q[state])\n",
        "    pi_A[best_action] += (1.0 - epsilon)\n",
        "    return pi_A\n",
        "\n",
        "# Política epsilon-greedy a partir de una epsilon-soft\n",
        "def epsilon_greedy_policy(Q, epsilon, state, nA):\n",
        "    pi_A = random_epsilon_greedy_policy(Q, epsilon, state, nA)\n",
        "    return np.random.choice(np.arange(nA), p=pi_A)\n",
        "\n",
        "# Política Greedy a partir de los valones Q. Se usa para mostrar la solución.\n",
        "def pi_star_from_Q(env, Q):\n",
        "    done = False\n",
        "    pi_star = np.zeros([env.observation_space.n, env.action_space.n])\n",
        "    state, info = env.reset() # start in top-left, = 0\n",
        "    actions = \"\"\n",
        "    while not done:\n",
        "        action = np.argmax(Q[state, :])\n",
        "        actions += f\"{action}, \"\n",
        "        pi_star[state,action] = action\n",
        "        state, reward, terminated, truncated, info = env.step(action)\n",
        "        done = terminated or truncated\n",
        "    return pi_star, actions"
      ]
    },
    {
      "cell_type": "code",
      "execution_count": null,
      "metadata": {
        "id": "RpUWKye-7YA1"
      },
      "outputs": [],
      "source": [
        "#@title Algoritmo de Iteración de Valor versión MC con Políticas epsilon-soft\n",
        "\n",
        "def on_policy_all_visit(env, num_episodes=5000, epsilon=0.4, decay=False, discount_factor=1):\n",
        "  # Matriz de valores  Q\n",
        "  nA = env.action_space.n\n",
        "  Q = np.zeros([env.observation_space.n, nA])\n",
        "\n",
        "  # Número de visitas. Vamoa a realizar la versión incremental.\n",
        "  n_visits = np.zeros([env.observation_space.n, env.action_space.n])\n",
        "\n",
        "  # Para mostrar la evolución en el terminal y algún dato que mostrar\n",
        "  stats = 0.0\n",
        "  list_stats = [stats]\n",
        "  step_display = num_episodes / 10\n",
        "\n",
        "  for t in tqdm(range(num_episodes)):\n",
        "      state, info = env.reset(seed=100)\n",
        "      done = False\n",
        "      episode = []\n",
        "      result_sum = 0.0  # Retorno\n",
        "      factor = 1\n",
        "      while not done:\n",
        "          if decay:\n",
        "            epsilon = min(1.0, 1000.0/(t+1))\n",
        "\n",
        "          action = epsilon_greedy_policy(Q, epsilon, state, nA) # GET ACTION\n",
        "          new_state, reward, terminated, truncated, info = env.step(action)\n",
        "\n",
        "          done = terminated or truncated\n",
        "\n",
        "          episode.append((state, action))\n",
        "          result_sum += factor * reward\n",
        "          factor *= discount_factor\n",
        "          state = new_state\n",
        "\n",
        "      # UPDATE\n",
        "      for (state, action) in episode:\n",
        "          n_visits[state, action] += 1.0\n",
        "          alpha = 1.0 / n_visits[state, action]\n",
        "          Q[state, action] += alpha * (result_sum - Q[state, action])\n",
        "\n",
        "      # Guardamos datos sobre la evolución\n",
        "      stats += result_sum\n",
        "      list_stats.append(stats/(t+1))\n",
        "\n",
        "      # Para mostrar la evolución.  Comentar si no se quiere mostrar\n",
        "      if t % step_display == 0 and t != 0:\n",
        "          print(f\"success: {stats/t}, epsilon: {epsilon}\")\n",
        "\n",
        "  return Q, list_stats\n"
      ]
    },
    {
      "cell_type": "markdown",
      "metadata": {
        "id": "0XxVyTFTfVkL"
      },
      "source": [
        "## **3. Experimentación**\n",
        "\n",
        "   - En esta sección, el algoritmo de Monte Carlo con la política epsilon-soft se ejecuta tanto para el entorno de 4x4 como al de 8x8 de FrozenLake sin resbalar.\n",
        "   \n",
        "   - En ambos casos se realiza un entrenamiento con un número determinado de episodios (5000 en concreto)\n",
        "\n",
        "   - Además en el escenario 8x8 el  epsilon tiene decaimiento de acuerdo a la expresión: $\\epsilon = min(1.0, 1000.0/(t+1))$\n",
        "\n",
        "   - Durante el entrenamiento hay una visualización de la proporción de recompensas obtenidas a lo largo del entrenamiento.\n",
        "\n",
        "   - Junto a dicho volcado se muestra gráficamente la proporcion de recompensas obtendias.\n",
        "\n",
        "   - También se hace un volcado de los valores Q de cada estado, donde se muestra cómo el agente valora diferentes acciones en distintos estados del entorno, lo que puede interpretarse como su conocimiento sobre las mejores estrategias para alcanzar la meta sin caer en los agujeros.\n",
        "\n",
        "   - Además, se muestra la política óptima derivada de los valores Q. Esta política es la que el agente seguiría si tuviera que elegir siempre la acción que maximiza su recompensa esperada.\n",
        "\n",
        "   "
      ]
    },
    {
      "cell_type": "markdown",
      "metadata": {
        "id": "cqdLUE8zQN2v"
      },
      "source": [
        "### **3.1 Repressentaciones Gráficas**\n",
        "\n",
        "Para comprobar el aprendizaje se mostrará la función $f(t)=\\frac{\\sum_{i=1}^t R_i}{t}$ para $t=1,2,\\ldots, NumeroEpisodios$. La justificación es la siguiente. Como sabemmos que el retorno en el estados inicial 1 (pues no hay descuento) o 9, si se divide por el número de episodios ejecutados se calcular el porcentaje de recompensas positivas obtenidas. Dicho de otra forma, nos dirá el porcentaje de veces que el agente ha llegado al estado terminal.\n",
        "\n",
        "*TODO:* Contruir una gráfica que muestre la longitud de los episodios en cada estado junto con la curva de tendencia."
      ]
    },
    {
      "cell_type": "code",
      "execution_count": null,
      "metadata": {
        "cellView": "form",
        "id": "u42-YlgazukU"
      },
      "outputs": [],
      "source": [
        "# @title Funciones para mostrar los resultados\n",
        "\n",
        "def plot(list_stats):\n",
        "  # Creamos una lista de índices para el eje x\n",
        "  indices = list(range(len(list_stats)))\n",
        "\n",
        "  # Creamos el gráfico\n",
        "  plt.figure(figsize=(6, 3))\n",
        "  plt.plot(indices, list_stats)\n",
        "\n",
        "  # Añadimos título y etiquetas\n",
        "  plt.title('Proporción de recompensas')\n",
        "  plt.xlabel('Episodio')\n",
        "  plt.ylabel('Proporción')\n",
        "\n",
        "  # Mostramos el gráfico\n",
        "  plt.grid(True)\n",
        "  plt.show()\n",
        "\n",
        "# Define la función para mostrar el tamaño de los episodios\n",
        "# Pon aquí tu código.\n",
        "\n",
        "def plot_len_episodes(episodes):\n",
        "  # Creamos una lista de índices para el eje x\n",
        "\n",
        "  # Creamos el gráfico\n",
        "  plt.figure(figsize=(6, 3))\n",
        "  plt.plot(    [len(episode) for episode in episodes]\n",
        ")\n",
        "\n",
        "  # Añadimos título y etiquetas\n",
        "  plt.title('Longirud de episodios por T')\n",
        "  plt.xlabel('Episodio T')\n",
        "  plt.ylabel('Número de pasos del episodio')\n",
        "\n",
        "  # Mostramos el gráfico\n",
        "  plt.grid(True)\n",
        "  plt.show()"
      ]
    },
    {
      "cell_type": "markdown",
      "metadata": {
        "id": "JvnGJVGF_j2j"
      },
      "source": [
        "### **3.2 Experimentación en el escenario 4x4**\n",
        "\n",
        "\n",
        "\n",
        "   - Se realizan 5000 epsisodios y se actualizan los valores Q (valor de acción) basándose en las recompensas obtenidas durante cada episodio completo (e.d. aplicamos Monte Carlo) Se apica una política $\\epsilon$ greedy sobre una política $\\epsilon$ soft con un valor $\\epsilon$ constante\n",
        "\n",
        "\n"
      ]
    },
    {
      "cell_type": "code",
      "execution_count": null,
      "metadata": {
        "cellView": "form",
        "colab": {
          "base_uri": "https://localhost:8080/",
          "height": 0
        },
        "collapsed": true,
        "id": "j_Dronjr_mAN",
        "outputId": "1c0f7ad3-0686-494e-b7eb-1b4a49573329"
      },
      "outputs": [],
      "source": [
        "# @title Aprendizaje\n",
        "Q, list_stats = on_policy_all_visit(env, num_episodes=50000, epsilon=0.4, discount_factor=1)"
      ]
    },
    {
      "cell_type": "code",
      "execution_count": null,
      "metadata": {},
      "outputs": [],
      "source": [
        "pi_star, actions = pi_star_from_Q(env, Q)\n",
        "pi_star, actions"
      ]
    },
    {
      "cell_type": "code",
      "execution_count": null,
      "metadata": {
        "cellView": "form",
        "colab": {
          "base_uri": "https://localhost:8080/",
          "height": 351
        },
        "id": "KLhdk1SFtn8S",
        "outputId": "30d22b75-74ae-4735-99a7-0401d3a836ea"
      },
      "outputs": [],
      "source": [
        "#@title Proporción de aciertos por número de episodios\n",
        "\n",
        "plot(np.cumsum(stats['episode_rewards']))"
      ]
    },
    {
      "cell_type": "markdown",
      "metadata": {
        "id": "zoP1jHL_StI9"
      },
      "source": [
        "####.\n",
        "Mostramos los valores Q para cada estado. Cada estado tienen 4 valores, que se corresponden con las 4 acciones que se pueden en cada estado."
      ]
    },
    {
      "cell_type": "code",
      "execution_count": null,
      "metadata": {
        "colab": {
          "base_uri": "https://localhost:8080/",
          "height": 0
        },
        "id": "psRtMmxyFkFq",
        "outputId": "f9e44658-ea7b-49fe-affb-b1453c055dbf"
      },
      "outputs": [],
      "source": [
        "# @title Tabla de valores Q\n",
        "LEFT, DOWN, RIGHT, UP = 0,1,2,3\n",
        "print(\"Valores Q para cada estado:\\n\", Q)\n"
      ]
    },
    {
      "cell_type": "markdown",
      "metadata": {
        "id": "AsJ-AgwcTgdO"
      },
      "source": [
        "- También se muestra la política óptima (greedy) obtenida a partir del aprendizaje anterior.\n",
        "\n",
        "- Cada estado tienen 4 valores, pero todos son 0 menos 1. Es decir, en cada estado se aplica de manera determinística una única acción.\n",
        "\n",
        "*TODO:* Mostrar de forma gráfica el escenario."
      ]
    },
    {
      "cell_type": "code",
      "execution_count": null,
      "metadata": {},
      "outputs": [],
      "source": [
        "print(\"|-----|-----|-----|-----|\")\n",
        "print(\"|     |     |     |     |\")\n",
        "print(\"|     |     |     |     |\")\n",
        "print(\"|-----|-----|-----|-----|\")\n",
        "print(\"|     |     |     |     |\")\n",
        "print(\"|     |     |     |     |\")\n",
        "print(\"|-----|-----|-----|-----|\")\n",
        "print(\"|     |     |     |     |\")\n",
        "print(\"|     |     |     |     |\")\n",
        "print(\"|-----|-----|-----|-----|\")\n",
        "print(\"|     |     |     |     |\")\n",
        "print(\"|     |     |     |     |\")\n",
        "print(\"|-----|-----|-----|-----|\")"
      ]
    },
    {
      "cell_type": "code",
      "execution_count": null,
      "metadata": {
        "cellView": "form",
        "colab": {
          "base_uri": "https://localhost:8080/",
          "height": 0
        },
        "collapsed": true,
        "id": "dA0-q-woGYL2",
        "outputId": "b5cfb689-5329-49d1-8c47-b96de08a5105"
      },
      "outputs": [],
      "source": [
        "# @title Política final\n",
        "LEFT, DOWN, RIGHT, UP = 0,1,2,3\n",
        "pi, actions = pi_star_from_Q(env4, Q)\n",
        "\n",
        "print(\"Política óptima obtenida\\n\", pi, f\"\\n Acciones {actions} \\n Para el siguiente grid\\n\", env4.render())\n",
        "print()"
      ]
    },
    {
      "cell_type": "markdown",
      "metadata": {
        "id": "3tUyGCBuS41T"
      },
      "source": [
        "### **3.3 Experimentación en el escenario 8x8**\n",
        "\n",
        "  - Se realizan 5000 epsisodios y se actualizan los valores Q (valor de acción) basándose en las recompensas obtenidas durante cada episodio completo (e.d. aplicamos Monte Carlo) Se apica una política $\\epsilon$ greedy sobre una política $\\epsilon$ soft con un valor $\\epsilon$ decreciente\n",
        "\n"
      ]
    },
    {
      "cell_type": "code",
      "execution_count": null,
      "metadata": {
        "colab": {
          "base_uri": "https://localhost:8080/",
          "height": 0
        },
        "collapsed": true,
        "id": "ttDsqDX16sSj",
        "outputId": "ea0da61a-0fd7-4fad-b75e-f92deaaf6551"
      },
      "outputs": [],
      "source": [
        "# @title Aprendizaje\n",
        "Q, list_stats = on_policy_all_visit(env8, num_episodes=50000, epsilon=0.4, decay=True, discount_factor=1)"
      ]
    },
    {
      "cell_type": "code",
      "execution_count": null,
      "metadata": {
        "cellView": "form",
        "colab": {
          "base_uri": "https://localhost:8080/",
          "height": 351
        },
        "id": "Z_tbLcAq6yWR",
        "outputId": "bd14600f-00cd-4cc1-a5d0-81f972a3a295"
      },
      "outputs": [],
      "source": [
        "#@title Proporción de aciertos por número de episodios\n",
        "\n",
        "plot(list_stats)\n",
        "print(f\"Máxima proporcion: {list_stats[-1]}\")"
      ]
    },
    {
      "cell_type": "markdown",
      "metadata": {
        "id": "dptS3Xv8v8H7"
      },
      "source": [
        "####.\n",
        "Mostramos los valores Q para cada estado. Cada estado tienen 4 valores, que se corresponden con las 4 acciones que se pueden en cada estado."
      ]
    },
    {
      "cell_type": "code",
      "execution_count": null,
      "metadata": {
        "cellView": "form",
        "colab": {
          "base_uri": "https://localhost:8080/",
          "height": 0
        },
        "id": "scmn1mwlwBam",
        "outputId": "f2597e0f-bcd0-4daa-e4a3-0e939279f24a"
      },
      "outputs": [],
      "source": [
        "# @title Tabla de valores Q\n",
        "LEFT, DOWN, RIGHT, UP = 0,1,2,3\n",
        "print(\"Valores Q para cada estado:\\n\", Q)"
      ]
    },
    {
      "cell_type": "markdown",
      "metadata": {
        "id": "oWQWD7UqwH2Y"
      },
      "source": [
        "- También se muestra la política óptima (greedy) obtenida a partir del aprendizaje anterior.\n",
        "\n",
        "- Cada estado tienen 4 valores, pero todos son 0 menos 1. Es decir, en cada estado se aplica de manera determinística una única acción.\n",
        "\n",
        "*TODO:* Mostrar de forma gráfica el escenario."
      ]
    },
    {
      "cell_type": "code",
      "execution_count": null,
      "metadata": {
        "cellView": "form",
        "colab": {
          "base_uri": "https://localhost:8080/",
          "height": 0
        },
        "id": "1n6i3oMzwSG3",
        "outputId": "0dd2772e-e096-41d8-e2ae-18d809e2b098"
      },
      "outputs": [],
      "source": [
        "# @title Política final\n",
        "LEFT, DOWN, RIGHT, UP = 0,1,2,3\n",
        "pi, actions = pi_star_from_Q(env8, Q)\n",
        "\n",
        "print(\"Política óptima obtenida\\n\", pi, f\"\\n Acciones {actions} \\n Para el siguiente grid\\n\", env8.render())\n",
        "print()"
      ]
    },
    {
      "cell_type": "markdown",
      "metadata": {
        "id": "FG0Z813yhKz7"
      },
      "source": [
        "## **4. Análisis y Estudios Futuros**\n",
        "\n",
        "### **4.1 Análisis de Resultados**\n",
        "\n",
        "- En los dos entornos (4x4 y 8x8), el agente comienza con un conocimiento muy limitado, pero gradualmente mejora su desempeño a medida que avanza en los episodios. Este comportamiento se puede observar en el gráfico de la proporción de recompensas, que aumenta con el tiempo.\n",
        "- En el entorno 4x4, la máxima proporción de éxito alcanzada fue 0.522, mientras que en el entorno 8x8, la máxima alcanzada fue 0.914. Esto refleja que el agente aprendió a optimizar su estrategia en un entorno más complejo.\n",
        "- La política óptima obtenida muestra las acciones recomendadas por el agente en cada estado del entorno. En el entorno 8x8, la política es más compleja debido a la mayor cantidad de estados y la dificultad del entorno.\n",
        "\n",
        "### **4.2 Propuestas para Estudios Futuros**\n",
        "\n",
        "1. **Evaluar con Otros Entornos**: Sería interesante aplicar este algoritmo a otros entornos más complejos de `gym`, como \"Taxi-v3\" o \"MountainCar\", para analizar cómo se comporta el agente en situaciones con dinámicas más complicadas.\n",
        "   \n",
        "2. **Optimización del Decaimiento de Epsilon**: Aunque se utilizó un decaimiento de epsilon en el segundo experimento, se podría investigar la efectividad de diferentes tasas de decaimiento o incluso explorar algoritmos como `Q-learning` para comparar su desempeño. Graficamente se trataría de mostrar la curva de la tasa de aciertos para distintas funciones de decaimientos\n",
        "\n",
        "3. **Análisis del Impacto de los descuentos en las Recompensas**: El estudio se ha hecho para $\\gamma = 1$; pero no se ha probado qué pasa cuando  $0 \\leq \\gamma < 1$. Se trataría de estudiar la curva para distintos valores de $\\gamma$\n",
        "\n",
        "4. **Nuevas gráficas**: Aquí solo se ha usado la proporción de aciertos, pero sería interesante qué relación entre dicha tasa y las tamaños de los episodios.\n",
        "\n",
        "4. **Ampliación del Algoritmo**: Explorar otros enfoques de Monte Carlo o incluso combinar Monte Carlo con otros algoritmos de aprendizaje por refuerzo, como el Deep Q-Network (DQN), podría mejorar aún más los resultados en entornos más complejos.\n"
      ]
    },
    {
      "cell_type": "markdown",
      "metadata": {},
      "source": []
    },
    {
      "cell_type": "markdown",
      "metadata": {},
      "source": []
    }
  ],
  "metadata": {
    "colab": {
      "authorship_tag": "ABX9TyNjZJK7Hx6/LtHVZ0/ulFcl",
      "include_colab_link": true,
      "provenance": []
    },
    "kernelspec": {
      "display_name": ".venv",
      "language": "python",
      "name": "python3"
    },
    "language_info": {
      "codemirror_mode": {
        "name": "ipython",
        "version": 3
      },
      "file_extension": ".py",
      "mimetype": "text/x-python",
      "name": "python",
      "nbconvert_exporter": "python",
      "pygments_lexer": "ipython3",
      "version": "3.13.0"
    }
  },
  "nbformat": 4,
  "nbformat_minor": 0
}

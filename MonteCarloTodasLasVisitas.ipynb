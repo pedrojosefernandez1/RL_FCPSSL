{
  "cells": [
    {
      "cell_type": "markdown",
      "metadata": {
        "colab_type": "text",
        "id": "view-in-github"
      },
      "source": [
        "<a href=\"https://colab.research.google.com/github/ldaniel-hm/eml_k_bandit/blob/main/MonteCarloTodasLasVisitas.ipynb\" target=\"_parent\"><img src=\"https://colab.research.google.com/assets/colab-badge.svg\" alt=\"Open In Colab\"/></a>"
      ]
    },
    {
      "cell_type": "markdown",
      "metadata": {
        "id": "SipaVo-gz1ey"
      },
      "source": [
        "# **Monte Carlo con Políticas epsilon-soft**\n",
        "\n",
        "_Esto es un ejemplo de uso de Gymnasium e informe sobre un experimento de aprendizaje por refuerzo_\n",
        "\n",
        "````\n",
        "Luis D. Hernández.\n",
        "<ldaniel at um.es>\n",
        "````\n",
        "\n",
        "Este notebook describe un experimento de aprendizaje por refuerzo utilizando el algoritmo de Monte Carlo con políticas epsilon-soft. El propósito de este análisis es entrenar un agente en un entorno de gym con el juego \"FrozenLake\", un entorno estándar en el que el agente debe aprender a moverse a través de un mapa en busca de una meta, evitando caer en agujeros. A continuación, se presenta una descripción de las diferentes partes del código y el proceso utilizado en el experimento."
      ]
    },
    {
      "cell_type": "markdown",
      "metadata": {
        "id": "loCIjd-T0AVg"
      },
      "source": [
        "## **1. Preparación del Entorno**"
      ]
    },
    {
      "cell_type": "markdown",
      "metadata": {
        "id": "e2MTvyPWcU2q"
      },
      "source": [
        "La preparación consta de las siguientes partes:\n",
        "- **Instalación de Dependencias**: Se instalan las librerías necesarias para utilizar el entorno `gymnasium` para la simulación, con el objetivo de crear un ambiente controlado para que el agente pueda interactuar.\n",
        "- **Importación de Librerías**: Se importan las bibliotecas necesarias como `numpy` para el manejo de matrices y `matplotlib` para la visualización de los resultados.\n",
        "\n",
        "- **Importación del Entorno \"FrozenLake\"**:\n",
        "Se cargan dos versiones del entorno \"FrozenLake\": una de 4x4 y otra de 8x8. Ambas versiones no son resbaladizas, lo que facilita la comprensión de los resultados, dado que el entorno resbaladizo podría dificultar la comprensión inicial del aprendizaje.\n",
        "\n",
        "#### 3. **Funciones para Mostrar los Resultados**\n",
        "   - Se define una función para graficar la proporción de recompensas obtenidas en cada episodio del entrenamiento. Esto ayuda a visualizar el progreso del agente en términos de su desempeño durante el entrenamiento.\n",
        "\n"
      ]
    },
    {
      "cell_type": "markdown",
      "metadata": {
        "id": "0P7_98YrcsZw"
      },
      "source": [
        "##### _________ **Código de la Instalación e Importación**\n",
        "----"
      ]
    },
    {
      "cell_type": "code",
      "execution_count": 1,
      "metadata": {
        "cellView": "form",
        "id": "s-wSiHxNyuBH"
      },
      "outputs": [
        {
          "name": "stdout",
          "output_type": "stream",
          "text": [
            "Requirement already satisfied: tqdm in d:\\oficial\\umu\\master_ia\\temario\\exml\\k_brazos_fcpssl\\.venv\\lib\\site-packages (4.67.1)\n",
            "Requirement already satisfied: colorama in d:\\oficial\\umu\\master_ia\\temario\\exml\\k_brazos_fcpssl\\.venv\\lib\\site-packages (from tqdm) (0.4.6)\n",
            "Requirement already satisfied: gymnasium in d:\\oficial\\umu\\master_ia\\temario\\exml\\k_brazos_fcpssl\\.venv\\lib\\site-packages (1.1.0)\n",
            "Requirement already satisfied: numpy>=1.21.0 in d:\\oficial\\umu\\master_ia\\temario\\exml\\k_brazos_fcpssl\\.venv\\lib\\site-packages (from gymnasium) (2.2.3)\n",
            "Requirement already satisfied: cloudpickle>=1.2.0 in d:\\oficial\\umu\\master_ia\\temario\\exml\\k_brazos_fcpssl\\.venv\\lib\\site-packages (from gymnasium) (3.1.1)\n",
            "Requirement already satisfied: typing-extensions>=4.3.0 in d:\\oficial\\umu\\master_ia\\temario\\exml\\k_brazos_fcpssl\\.venv\\lib\\site-packages (from gymnasium) (4.12.2)\n",
            "Requirement already satisfied: farama-notifications>=0.0.1 in d:\\oficial\\umu\\master_ia\\temario\\exml\\k_brazos_fcpssl\\.venv\\lib\\site-packages (from gymnasium) (0.0.4)\n",
            "Requirement already satisfied: gymnasium[toy-text] in d:\\oficial\\umu\\master_ia\\temario\\exml\\k_brazos_fcpssl\\.venv\\lib\\site-packages (1.1.0)\n",
            "Requirement already satisfied: numpy>=1.21.0 in d:\\oficial\\umu\\master_ia\\temario\\exml\\k_brazos_fcpssl\\.venv\\lib\\site-packages (from gymnasium[toy-text]) (2.2.3)\n",
            "Requirement already satisfied: cloudpickle>=1.2.0 in d:\\oficial\\umu\\master_ia\\temario\\exml\\k_brazos_fcpssl\\.venv\\lib\\site-packages (from gymnasium[toy-text]) (3.1.1)\n",
            "Requirement already satisfied: typing-extensions>=4.3.0 in d:\\oficial\\umu\\master_ia\\temario\\exml\\k_brazos_fcpssl\\.venv\\lib\\site-packages (from gymnasium[toy-text]) (4.12.2)\n",
            "Requirement already satisfied: farama-notifications>=0.0.1 in d:\\oficial\\umu\\master_ia\\temario\\exml\\k_brazos_fcpssl\\.venv\\lib\\site-packages (from gymnasium[toy-text]) (0.0.4)\n",
            "Requirement already satisfied: pygame>=2.1.3 in d:\\oficial\\umu\\master_ia\\temario\\exml\\k_brazos_fcpssl\\.venv\\lib\\site-packages (from gymnasium[toy-text]) (2.6.1)\n",
            "Requirement already satisfied: gymnasium[other] in d:\\oficial\\umu\\master_ia\\temario\\exml\\k_brazos_fcpssl\\.venv\\lib\\site-packages (1.1.0)\n",
            "Requirement already satisfied: numpy>=1.21.0 in d:\\oficial\\umu\\master_ia\\temario\\exml\\k_brazos_fcpssl\\.venv\\lib\\site-packages (from gymnasium[other]) (2.2.3)\n",
            "Requirement already satisfied: cloudpickle>=1.2.0 in d:\\oficial\\umu\\master_ia\\temario\\exml\\k_brazos_fcpssl\\.venv\\lib\\site-packages (from gymnasium[other]) (3.1.1)\n",
            "Requirement already satisfied: typing-extensions>=4.3.0 in d:\\oficial\\umu\\master_ia\\temario\\exml\\k_brazos_fcpssl\\.venv\\lib\\site-packages (from gymnasium[other]) (4.12.2)\n",
            "Requirement already satisfied: farama-notifications>=0.0.1 in d:\\oficial\\umu\\master_ia\\temario\\exml\\k_brazos_fcpssl\\.venv\\lib\\site-packages (from gymnasium[other]) (0.0.4)\n",
            "Requirement already satisfied: moviepy>=1.0.0 in d:\\oficial\\umu\\master_ia\\temario\\exml\\k_brazos_fcpssl\\.venv\\lib\\site-packages (from gymnasium[other]) (2.1.2)\n",
            "Requirement already satisfied: matplotlib>=3.0 in d:\\oficial\\umu\\master_ia\\temario\\exml\\k_brazos_fcpssl\\.venv\\lib\\site-packages (from gymnasium[other]) (3.10.0)\n",
            "Requirement already satisfied: opencv-python>=3.0 in d:\\oficial\\umu\\master_ia\\temario\\exml\\k_brazos_fcpssl\\.venv\\lib\\site-packages (from gymnasium[other]) (4.11.0.86)\n",
            "Requirement already satisfied: seaborn>=0.13 in d:\\oficial\\umu\\master_ia\\temario\\exml\\k_brazos_fcpssl\\.venv\\lib\\site-packages (from gymnasium[other]) (0.13.2)\n",
            "Requirement already satisfied: contourpy>=1.0.1 in d:\\oficial\\umu\\master_ia\\temario\\exml\\k_brazos_fcpssl\\.venv\\lib\\site-packages (from matplotlib>=3.0->gymnasium[other]) (1.3.1)\n",
            "Requirement already satisfied: cycler>=0.10 in d:\\oficial\\umu\\master_ia\\temario\\exml\\k_brazos_fcpssl\\.venv\\lib\\site-packages (from matplotlib>=3.0->gymnasium[other]) (0.12.1)\n",
            "Requirement already satisfied: fonttools>=4.22.0 in d:\\oficial\\umu\\master_ia\\temario\\exml\\k_brazos_fcpssl\\.venv\\lib\\site-packages (from matplotlib>=3.0->gymnasium[other]) (4.56.0)\n",
            "Requirement already satisfied: kiwisolver>=1.3.1 in d:\\oficial\\umu\\master_ia\\temario\\exml\\k_brazos_fcpssl\\.venv\\lib\\site-packages (from matplotlib>=3.0->gymnasium[other]) (1.4.8)\n",
            "Requirement already satisfied: packaging>=20.0 in d:\\oficial\\umu\\master_ia\\temario\\exml\\k_brazos_fcpssl\\.venv\\lib\\site-packages (from matplotlib>=3.0->gymnasium[other]) (24.2)\n",
            "Requirement already satisfied: pillow>=8 in d:\\oficial\\umu\\master_ia\\temario\\exml\\k_brazos_fcpssl\\.venv\\lib\\site-packages (from matplotlib>=3.0->gymnasium[other]) (10.4.0)\n",
            "Requirement already satisfied: pyparsing>=2.3.1 in d:\\oficial\\umu\\master_ia\\temario\\exml\\k_brazos_fcpssl\\.venv\\lib\\site-packages (from matplotlib>=3.0->gymnasium[other]) (3.2.1)\n",
            "Requirement already satisfied: python-dateutil>=2.7 in d:\\oficial\\umu\\master_ia\\temario\\exml\\k_brazos_fcpssl\\.venv\\lib\\site-packages (from matplotlib>=3.0->gymnasium[other]) (2.9.0.post0)\n",
            "Requirement already satisfied: decorator<6.0,>=4.0.2 in d:\\oficial\\umu\\master_ia\\temario\\exml\\k_brazos_fcpssl\\.venv\\lib\\site-packages (from moviepy>=1.0.0->gymnasium[other]) (5.1.1)\n",
            "Requirement already satisfied: imageio<3.0,>=2.5 in d:\\oficial\\umu\\master_ia\\temario\\exml\\k_brazos_fcpssl\\.venv\\lib\\site-packages (from moviepy>=1.0.0->gymnasium[other]) (2.37.0)\n",
            "Requirement already satisfied: imageio_ffmpeg>=0.2.0 in d:\\oficial\\umu\\master_ia\\temario\\exml\\k_brazos_fcpssl\\.venv\\lib\\site-packages (from moviepy>=1.0.0->gymnasium[other]) (0.6.0)\n",
            "Requirement already satisfied: proglog<=1.0.0 in d:\\oficial\\umu\\master_ia\\temario\\exml\\k_brazos_fcpssl\\.venv\\lib\\site-packages (from moviepy>=1.0.0->gymnasium[other]) (0.1.10)\n",
            "Requirement already satisfied: python-dotenv>=0.10 in d:\\oficial\\umu\\master_ia\\temario\\exml\\k_brazos_fcpssl\\.venv\\lib\\site-packages (from moviepy>=1.0.0->gymnasium[other]) (1.0.1)\n",
            "Requirement already satisfied: pandas>=1.2 in d:\\oficial\\umu\\master_ia\\temario\\exml\\k_brazos_fcpssl\\.venv\\lib\\site-packages (from seaborn>=0.13->gymnasium[other]) (2.2.3)\n",
            "Requirement already satisfied: pytz>=2020.1 in d:\\oficial\\umu\\master_ia\\temario\\exml\\k_brazos_fcpssl\\.venv\\lib\\site-packages (from pandas>=1.2->seaborn>=0.13->gymnasium[other]) (2025.1)\n",
            "Requirement already satisfied: tzdata>=2022.7 in d:\\oficial\\umu\\master_ia\\temario\\exml\\k_brazos_fcpssl\\.venv\\lib\\site-packages (from pandas>=1.2->seaborn>=0.13->gymnasium[other]) (2025.1)\n",
            "Requirement already satisfied: tqdm in d:\\oficial\\umu\\master_ia\\temario\\exml\\k_brazos_fcpssl\\.venv\\lib\\site-packages (from proglog<=1.0.0->moviepy>=1.0.0->gymnasium[other]) (4.67.1)\n",
            "Requirement already satisfied: six>=1.5 in d:\\oficial\\umu\\master_ia\\temario\\exml\\k_brazos_fcpssl\\.venv\\lib\\site-packages (from python-dateutil>=2.7->matplotlib>=3.0->gymnasium[other]) (1.17.0)\n",
            "Requirement already satisfied: colorama in d:\\oficial\\umu\\master_ia\\temario\\exml\\k_brazos_fcpssl\\.venv\\lib\\site-packages (from tqdm->proglog<=1.0.0->moviepy>=1.0.0->gymnasium[other]) (0.4.6)\n"
          ]
        }
      ],
      "source": [
        "\n",
        "#@title Instalamos gym\n",
        "#! pip install 'gym[box2d]==0.20.0'\n",
        "! pip install tqdm\n",
        "! pip install gymnasium\n",
        "! pip install \"gymnasium[toy-text]\n",
        "! pip install \"gymnasium[other]\n",
        "## Instalación de algunos paquetes.\n",
        "#!apt-get update\n",
        "## Para usar gymnasium[box2d]\n",
        "#!pip install swig\n",
        "#!pip install gymnasium[box2d]"
      ]
    },
    {
      "cell_type": "code",
      "execution_count": 1,
      "metadata": {
        "cellView": "form",
        "id": "o5s4pz9Hzk7r"
      },
      "outputs": [
        {
          "name": "stdout",
          "output_type": "stream",
          "text": [
            "['C:\\\\Program Files\\\\WindowsApps\\\\PythonSoftwareFoundation.Python.3.12_3.12.2544.0_x64__qbz5n2kfra8p0\\\\python312.zip', 'C:\\\\Program Files\\\\WindowsApps\\\\PythonSoftwareFoundation.Python.3.12_3.12.2544.0_x64__qbz5n2kfra8p0\\\\DLLs', 'C:\\\\Program Files\\\\WindowsApps\\\\PythonSoftwareFoundation.Python.3.12_3.12.2544.0_x64__qbz5n2kfra8p0\\\\Lib', 'C:\\\\Program Files\\\\WindowsApps\\\\PythonSoftwareFoundation.Python.3.12_3.12.2544.0_x64__qbz5n2kfra8p0', 'd:\\\\Oficial\\\\UMU\\\\Master_IA\\\\Temario\\\\EXML\\\\k_brazos_FCPSSL\\\\.venv', '', 'd:\\\\Oficial\\\\UMU\\\\Master_IA\\\\Temario\\\\EXML\\\\k_brazos_FCPSSL\\\\.venv\\\\Lib\\\\site-packages', 'd:\\\\Oficial\\\\UMU\\\\Master_IA\\\\Temario\\\\EXML\\\\k_brazos_FCPSSL\\\\.venv\\\\Lib\\\\site-packages\\\\win32', 'd:\\\\Oficial\\\\UMU\\\\Master_IA\\\\Temario\\\\EXML\\\\k_brazos_FCPSSL\\\\.venv\\\\Lib\\\\site-packages\\\\win32\\\\lib', 'd:\\\\Oficial\\\\UMU\\\\Master_IA\\\\Temario\\\\EXML\\\\k_brazos_FCPSSL\\\\.venv\\\\Lib\\\\site-packages\\\\Pythonwin', 'src']\n"
          ]
        }
      ],
      "source": [
        "#@title Importamos librerias\n",
        "import numpy as np\n",
        "import matplotlib.pyplot as plt\n",
        "from tqdm import tqdm\n",
        "import gymnasium as gym\n",
        "\n",
        "import sys\n",
        "\n",
        "sys.path.append('src')\n",
        "\n",
        "print(sys.path)\n",
        "\n",
        "from plotting import plot_episode_rewards, plot_len_episodes, render_episode\n"
      ]
    },
    {
      "cell_type": "code",
      "execution_count": 3,
      "metadata": {},
      "outputs": [
        {
          "name": "stdout",
          "output_type": "stream",
          "text": [
            "0\n"
          ]
        },
        {
          "ename": "TypeError",
          "evalue": "'Discrete' object is not callable",
          "output_type": "error",
          "traceback": [
            "\u001b[1;31m---------------------------------------------------------------------------\u001b[0m",
            "\u001b[1;31mTypeError\u001b[0m                                 Traceback (most recent call last)",
            "Cell \u001b[1;32mIn[3], line 4\u001b[0m\n\u001b[0;32m      2\u001b[0m state, _ \u001b[38;5;241m=\u001b[39m env2\u001b[38;5;241m.\u001b[39mreset(seed\u001b[38;5;241m=\u001b[39m\u001b[38;5;241m32\u001b[39m)\n\u001b[0;32m      3\u001b[0m \u001b[38;5;28mprint\u001b[39m(state)\n\u001b[1;32m----> 4\u001b[0m \u001b[38;5;28mprint\u001b[39m(\u001b[43menv2\u001b[49m\u001b[38;5;241;43m.\u001b[39;49m\u001b[43maction_space\u001b[49m\u001b[43m(\u001b[49m\u001b[38;5;241;43m4\u001b[39;49m\u001b[43m)\u001b[49m)\n\u001b[0;32m      5\u001b[0m next_state, reward, terminated, truncated, info \u001b[38;5;241m=\u001b[39m env2\u001b[38;5;241m.\u001b[39mstep(\u001b[38;5;241m1\u001b[39m)\n\u001b[0;32m      6\u001b[0m \u001b[38;5;28mprint\u001b[39m(next_state)\n",
            "\u001b[1;31mTypeError\u001b[0m: 'Discrete' object is not callable"
          ]
        }
      ],
      "source": [
        "env2 = gym.make('FrozenLake-v1', is_slippery=False, map_name=\"4x4\", render_mode=\"rgb_array\") # No resbaladizo para entender mejor los resultados.\n",
        "state, _ = env2.reset(seed=32)\n",
        "print(state)\n",
        "print(env2.action_space(4))\n",
        "next_state, reward, terminated, truncated, info = env2.step(1)\n",
        "print(next_state)\n",
        "print(env2.action_space)"
      ]
    },
    {
      "cell_type": "code",
      "execution_count": 2,
      "metadata": {},
      "outputs": [
        {
          "name": "stderr",
          "output_type": "stream",
          "text": [
            "d:\\Oficial\\UMU\\Master_IA\\Temario\\EXML\\k_brazos_FCPSSL\\.venv\\Lib\\site-packages\\gymnasium\\wrappers\\rendering.py:283: UserWarning: \u001b[33mWARN: Overwriting existing videos at d:\\Oficial\\UMU\\Master_IA\\Temario\\EXML\\RL_FCPSSL\\videos\\FrozenLake-v1\\MonteCarloEpsilonGreedyAgent(gamma0.99_epsilon1_decay_rate0.999_min_epsilon0) folder (try specifying a different `video_folder` for the `RecordVideo` wrapper if this is not desired)\u001b[0m\n",
            "  logger.warn(\n",
            "100%|██████████| 10000/10000 [00:05<00:00, 1778.48it/s]\n"
          ]
        },
        {
          "data": {
            "image/png": "[encoded data removed]",
            "text/plain": [
              "<Figure size 900x900 with 9 Axes>"
            ]
          },
          "metadata": {},
          "output_type": "display_data"
        }
      ],
      "source": [
        "from agents import MonteCarloEpsilonSoftAgent, MonteCarloEpsilonGreedyAgent\n",
        "#env = gym.make(\"FrozenLake-v1\", is_slippery=True, render_mode=None)\n",
        "#n_episodes = 10000\n",
        "n_episodes = 10000\n",
        "#env = gym.make('FrozenLake-v1', is_slippery=False, map_name=\"4x4\", render_mode=\"rgb_array\", max_episode_steps=500) # No resbaladizo para entender mejor los resultados.\n",
        "env = gym.make('FrozenLake-v1', is_slippery=False, map_name=\"4x4\", render_mode=\"rgb_array\") # No resbaladizo para entender mejor los resultados.\n",
        "env2 = gym.make('FrozenLake-v1', is_slippery=False, map_name=\"4x4\", render_mode=\"ansi\") # No resbaladizo para entender mejor los resultados.\n",
        "\n",
        "#agent = MonteCarloEpsilonSoftAgent(env, epsilon=0.4, decay_rate=1)\n",
        "agent = MonteCarloEpsilonGreedyAgent(env, epsilon=1, decay_rate=0.999, min_epsilon=0)\n",
        "\n",
        "agent.train(n_episodes, render_interval=5000, video_path='videos')\n",
        "\n",
        "stats = agent.stats()\n",
        "render_episode(agent.pi_star()[1], env)"
      ]
    },
    {
      "cell_type": "code",
      "execution_count": 4,
      "metadata": {},
      "outputs": [
        {
          "data": {
            "text/plain": [
              "array([[0.31067421, 0.83609997, 0.24407813, 0.2556123 ],\n",
              "       [0.34723863, 0.        , 0.12723199, 0.10843502],\n",
              "       [0.2044849 , 0.08879727, 0.0686541 , 0.06688907],\n",
              "       [0.11268981, 0.        , 0.        , 0.        ],\n",
              "       [0.35251563, 0.88237492, 0.        , 0.40077469],\n",
              "       [0.        , 0.        , 0.        , 0.        ],\n",
              "       [0.        , 0.79520457, 0.        , 0.22017232],\n",
              "       [0.        , 0.        , 0.        , 0.        ],\n",
              "       [0.48718457, 0.        , 0.91960269, 0.44266203],\n",
              "       [0.54082719, 0.71529575, 0.95730759, 0.        ],\n",
              "       [0.75489757, 0.98579388, 0.        , 0.62159367],\n",
              "       [0.        , 0.        , 0.        , 0.        ],\n",
              "       [0.        , 0.        , 0.        , 0.        ],\n",
              "       [0.        , 0.67153916, 0.92919837, 0.49946615],\n",
              "       [0.83372665, 0.95037975, 1.        , 0.79412797],\n",
              "       [0.        , 0.        , 0.        , 0.        ]])"
            ]
          },
          "execution_count": 4,
          "metadata": {},
          "output_type": "execute_result"
        }
      ],
      "source": [
        "stats['Q-table']"
      ]
    },
    {
      "cell_type": "code",
      "execution_count": 4,
      "metadata": {},
      "outputs": [
        {
          "data": {
            "image/png": "[encoded data removed]",
            "text/plain": [
              "<Figure size 600x300 with 1 Axes>"
            ]
          },
          "metadata": {},
          "output_type": "display_data"
        }
      ],
      "source": [
        "plot_len_episodes(stats[\"episodes\"])\n"
      ]
    },
    {
      "cell_type": "code",
      "execution_count": 29,
      "metadata": {},
      "outputs": [
        {
          "data": {
            "text/plain": [
              "[10,\n",
              " 5,\n",
              " 7,\n",
              " 7,\n",
              " 27,\n",
              " 2,\n",
              " 11,\n",
              " 15,\n",
              " 3,\n",
              " 8,\n",
              " 2,\n",
              " 5,\n",
              " 11,\n",
              " 3,\n",
              " 13,\n",
              " 5,\n",
              " 7,\n",
              " 29,\n",
              " 19,\n",
              " 4,\n",
              " 13,\n",
              " 15,\n",
              " 11,\n",
              " 6,\n",
              " 20,\n",
              " 6,\n",
              " 5,\n",
              " 15,\n",
              " 15,\n",
              " 14,\n",
              " 19,\n",
              " 12,\n",
              " 28,\n",
              " 23,\n",
              " 16,\n",
              " 14,\n",
              " 20,\n",
              " 7,\n",
              " 9,\n",
              " 17,\n",
              " 8,\n",
              " 3,\n",
              " 6,\n",
              " 9,\n",
              " 9,\n",
              " 3,\n",
              " 3,\n",
              " 16,\n",
              " 16,\n",
              " 13,\n",
              " 2,\n",
              " 14,\n",
              " 4,\n",
              " 11,\n",
              " 3,\n",
              " 12,\n",
              " 52,\n",
              " 10,\n",
              " 17,\n",
              " 6,\n",
              " 16,\n",
              " 14,\n",
              " 16,\n",
              " 19,\n",
              " 11,\n",
              " 5,\n",
              " 35,\n",
              " 21,\n",
              " 15,\n",
              " 5,\n",
              " 14,\n",
              " 20,\n",
              " 12,\n",
              " 6,\n",
              " 5,\n",
              " 14,\n",
              " 10,\n",
              " 2,\n",
              " 30,\n",
              " 36,\n",
              " 7,\n",
              " 16,\n",
              " 39,\n",
              " 11,\n",
              " 7,\n",
              " 9,\n",
              " 6,\n",
              " 2,\n",
              " 3,\n",
              " 6,\n",
              " 3,\n",
              " 7,\n",
              " 2,\n",
              " 6,\n",
              " 10,\n",
              " 6,\n",
              " 16,\n",
              " 2,\n",
              " 15,\n",
              " 10,\n",
              " 8,\n",
              " 3,\n",
              " 10,\n",
              " 4,\n",
              " 7,\n",
              " 13,\n",
              " 7,\n",
              " 10,\n",
              " 6,\n",
              " 8,\n",
              " 6,\n",
              " 6,\n",
              " 9,\n",
              " 11,\n",
              " 6,\n",
              " 9,\n",
              " 6,\n",
              " 6,\n",
              " 8,\n",
              " 6,\n",
              " 12,\n",
              " 6,\n",
              " 6,\n",
              " 12,\n",
              " 6,\n",
              " 9,\n",
              " 6,\n",
              " 6,\n",
              " 14,\n",
              " 14,\n",
              " 7,\n",
              " 6,\n",
              " 6,\n",
              " 8,\n",
              " 10,\n",
              " 8,\n",
              " 11,\n",
              " 4,\n",
              " 6,\n",
              " 2,\n",
              " 6,\n",
              " 6,\n",
              " 6,\n",
              " 4,\n",
              " 2,\n",
              " 6,\n",
              " 6,\n",
              " 3,\n",
              " 9,\n",
              " 6,\n",
              " 6,\n",
              " 10,\n",
              " 6,\n",
              " 6,\n",
              " 6,\n",
              " 5,\n",
              " 8,\n",
              " 6,\n",
              " 8,\n",
              " 7,\n",
              " 5,\n",
              " 7,\n",
              " 7,\n",
              " 6,\n",
              " 8,\n",
              " 6,\n",
              " 6,\n",
              " 6,\n",
              " 6,\n",
              " 7,\n",
              " 6,\n",
              " 6,\n",
              " 7,\n",
              " 8,\n",
              " 10,\n",
              " 6,\n",
              " 8,\n",
              " 5,\n",
              " 6,\n",
              " 6,\n",
              " 6,\n",
              " 5,\n",
              " 6,\n",
              " 10,\n",
              " 8,\n",
              " 6,\n",
              " 6,\n",
              " 6,\n",
              " 6,\n",
              " 5,\n",
              " 6,\n",
              " 3,\n",
              " 6,\n",
              " 6,\n",
              " 6,\n",
              " 6,\n",
              " 6,\n",
              " 4,\n",
              " 6,\n",
              " 6,\n",
              " 6,\n",
              " 10,\n",
              " 6,\n",
              " 6,\n",
              " 2,\n",
              " 6,\n",
              " 8,\n",
              " 6,\n",
              " 8,\n",
              " 6,\n",
              " 10,\n",
              " 3,\n",
              " 7,\n",
              " 6,\n",
              " 9,\n",
              " 9,\n",
              " 6,\n",
              " 8,\n",
              " 6,\n",
              " 7,\n",
              " 6,\n",
              " 6,\n",
              " 7,\n",
              " 6,\n",
              " 6,\n",
              " 5,\n",
              " 6,\n",
              " 4,\n",
              " 6,\n",
              " 6,\n",
              " 6,\n",
              " 6,\n",
              " 8,\n",
              " 6,\n",
              " 3,\n",
              " 7,\n",
              " 8,\n",
              " 6,\n",
              " 7,\n",
              " 5,\n",
              " 6,\n",
              " 3,\n",
              " 6,\n",
              " 8,\n",
              " 8,\n",
              " 6,\n",
              " 6,\n",
              " 8,\n",
              " 6,\n",
              " 6,\n",
              " 6,\n",
              " 6,\n",
              " 2,\n",
              " 6,\n",
              " 6,\n",
              " 6,\n",
              " 6,\n",
              " 10,\n",
              " 8,\n",
              " 6,\n",
              " 7,\n",
              " 6,\n",
              " 6,\n",
              " 7,\n",
              " 6,\n",
              " 6,\n",
              " 5,\n",
              " 6,\n",
              " 6,\n",
              " 6,\n",
              " 6,\n",
              " 7,\n",
              " 6,\n",
              " 8,\n",
              " 8,\n",
              " 6,\n",
              " 6,\n",
              " 6,\n",
              " 6,\n",
              " 6,\n",
              " 6,\n",
              " 6,\n",
              " 6,\n",
              " 6,\n",
              " 6,\n",
              " 6,\n",
              " 6,\n",
              " 10,\n",
              " 6,\n",
              " 6,\n",
              " 6,\n",
              " 6,\n",
              " 6,\n",
              " 6,\n",
              " 6,\n",
              " 5,\n",
              " 6,\n",
              " 8,\n",
              " 6,\n",
              " 6,\n",
              " 7,\n",
              " 6,\n",
              " 6,\n",
              " 6,\n",
              " 6,\n",
              " 8,\n",
              " 6,\n",
              " 6,\n",
              " 6,\n",
              " 6,\n",
              " 6,\n",
              " 6,\n",
              " 6,\n",
              " 9,\n",
              " 6,\n",
              " 6,\n",
              " 6,\n",
              " 8,\n",
              " 6,\n",
              " 6,\n",
              " 6,\n",
              " 6,\n",
              " 6,\n",
              " 6,\n",
              " 6,\n",
              " 6,\n",
              " 6,\n",
              " 4,\n",
              " 6,\n",
              " 6,\n",
              " 6,\n",
              " 6,\n",
              " 6,\n",
              " 6,\n",
              " 6,\n",
              " 6,\n",
              " 8,\n",
              " 6,\n",
              " 6,\n",
              " 6,\n",
              " 6,\n",
              " 6,\n",
              " 8,\n",
              " 6,\n",
              " 6,\n",
              " 6,\n",
              " 6,\n",
              " 6,\n",
              " 6,\n",
              " 10,\n",
              " 8,\n",
              " 6,\n",
              " 6,\n",
              " 6,\n",
              " 6,\n",
              " 6,\n",
              " 8,\n",
              " 6,\n",
              " 6,\n",
              " 4,\n",
              " 6,\n",
              " 6,\n",
              " 3,\n",
              " 6,\n",
              " 6,\n",
              " 6,\n",
              " 6,\n",
              " 6,\n",
              " 7,\n",
              " 6,\n",
              " 8,\n",
              " 6,\n",
              " 6,\n",
              " 6,\n",
              " 5,\n",
              " 4,\n",
              " 6,\n",
              " 6,\n",
              " 8,\n",
              " 6,\n",
              " 6,\n",
              " 6,\n",
              " 6,\n",
              " 6,\n",
              " 6,\n",
              " 6,\n",
              " 6,\n",
              " 6,\n",
              " 6,\n",
              " 6,\n",
              " 6,\n",
              " 6,\n",
              " 7,\n",
              " 6,\n",
              " 6,\n",
              " 6,\n",
              " 6,\n",
              " 6,\n",
              " 6,\n",
              " 6,\n",
              " 6,\n",
              " 6,\n",
              " 6,\n",
              " 6,\n",
              " 6,\n",
              " 8,\n",
              " 6,\n",
              " 6,\n",
              " 6,\n",
              " 6,\n",
              " 6,\n",
              " 6,\n",
              " 6,\n",
              " 6,\n",
              " 6,\n",
              " 6,\n",
              " 6,\n",
              " 6,\n",
              " 6,\n",
              " 6,\n",
              " 6,\n",
              " 6,\n",
              " 6,\n",
              " 7,\n",
              " 6,\n",
              " 6,\n",
              " 6,\n",
              " 6,\n",
              " 6,\n",
              " 6,\n",
              " 5,\n",
              " 6,\n",
              " 6,\n",
              " 6,\n",
              " 6,\n",
              " 6,\n",
              " 6,\n",
              " 6,\n",
              " 6,\n",
              " 6,\n",
              " 6,\n",
              " 6,\n",
              " 6,\n",
              " 6,\n",
              " 6,\n",
              " 6,\n",
              " 6,\n",
              " 6,\n",
              " 6,\n",
              " 6,\n",
              " 6,\n",
              " 6,\n",
              " 6,\n",
              " 6,\n",
              " 6,\n",
              " 6,\n",
              " 6,\n",
              " 6,\n",
              " 6,\n",
              " 6,\n",
              " 6,\n",
              " 6,\n",
              " 6,\n",
              " 6,\n",
              " 6,\n",
              " 6,\n",
              " 6,\n",
              " 6,\n",
              " 6,\n",
              " 6,\n",
              " 6,\n",
              " 6,\n",
              " 6,\n",
              " 6,\n",
              " 6,\n",
              " 6,\n",
              " 6,\n",
              " 6,\n",
              " 6,\n",
              " 6,\n",
              " 6,\n",
              " 6,\n",
              " 6,\n",
              " 6,\n",
              " 6,\n",
              " 6,\n",
              " 6,\n",
              " 6,\n",
              " 6,\n",
              " 6,\n",
              " 6,\n",
              " 6,\n",
              " 6,\n",
              " 6,\n",
              " 6,\n",
              " 6,\n",
              " 6,\n",
              " 6,\n",
              " 6,\n",
              " 6,\n",
              " 6,\n",
              " 6,\n",
              " 6,\n",
              " 6,\n",
              " 6,\n",
              " 6,\n",
              " 6,\n",
              " 6,\n",
              " 6,\n",
              " 6,\n",
              " 6,\n",
              " 6,\n",
              " 6,\n",
              " 6,\n",
              " 6,\n",
              " 6,\n",
              " 6,\n",
              " 6,\n",
              " 6,\n",
              " 6,\n",
              " 6,\n",
              " 6,\n",
              " 6,\n",
              " 6,\n",
              " 6,\n",
              " 6,\n",
              " 6,\n",
              " 6,\n",
              " 6,\n",
              " 6,\n",
              " 6,\n",
              " 6,\n",
              " 6,\n",
              " 6,\n",
              " 6,\n",
              " 6,\n",
              " 6,\n",
              " 6,\n",
              " 6,\n",
              " 6,\n",
              " 6,\n",
              " 6,\n",
              " 6,\n",
              " 6,\n",
              " 6,\n",
              " 6,\n",
              " 7,\n",
              " 6,\n",
              " 6,\n",
              " 6,\n",
              " 6,\n",
              " 7,\n",
              " 6,\n",
              " 6,\n",
              " 6,\n",
              " 6,\n",
              " 6,\n",
              " 6,\n",
              " 6,\n",
              " 6,\n",
              " 6,\n",
              " 6,\n",
              " 6,\n",
              " 6,\n",
              " 6,\n",
              " 6,\n",
              " 6,\n",
              " 6,\n",
              " 6,\n",
              " 6,\n",
              " 6,\n",
              " 6,\n",
              " 2,\n",
              " 6,\n",
              " 6,\n",
              " 6,\n",
              " 6,\n",
              " 6,\n",
              " 6,\n",
              " 6,\n",
              " 6,\n",
              " 6,\n",
              " 6,\n",
              " 6,\n",
              " 6,\n",
              " 6,\n",
              " 6,\n",
              " 4,\n",
              " 6,\n",
              " 6,\n",
              " 6,\n",
              " 6,\n",
              " 6,\n",
              " 6,\n",
              " 6,\n",
              " 6,\n",
              " 6,\n",
              " 6,\n",
              " 6,\n",
              " 6,\n",
              " 6,\n",
              " 6,\n",
              " 6,\n",
              " 6,\n",
              " 6,\n",
              " 6,\n",
              " 6,\n",
              " 6,\n",
              " 6,\n",
              " 8,\n",
              " 6,\n",
              " 6,\n",
              " 8,\n",
              " 6,\n",
              " 6,\n",
              " 6,\n",
              " 6,\n",
              " 6,\n",
              " 6,\n",
              " 6,\n",
              " 6,\n",
              " 6,\n",
              " 6,\n",
              " 6,\n",
              " 6,\n",
              " 6,\n",
              " 6,\n",
              " 6,\n",
              " 6,\n",
              " 6,\n",
              " 6,\n",
              " 6,\n",
              " 6,\n",
              " 6,\n",
              " 6,\n",
              " 6,\n",
              " 6,\n",
              " 6,\n",
              " 6,\n",
              " 7,\n",
              " 6,\n",
              " 6,\n",
              " 6,\n",
              " 6,\n",
              " 6,\n",
              " 6,\n",
              " 6,\n",
              " 6,\n",
              " 6,\n",
              " 6,\n",
              " 10,\n",
              " 6,\n",
              " 7,\n",
              " 6,\n",
              " 6,\n",
              " 6,\n",
              " 6,\n",
              " 6,\n",
              " 6,\n",
              " 6,\n",
              " 6,\n",
              " 6,\n",
              " 6,\n",
              " 6,\n",
              " 6,\n",
              " 6,\n",
              " 6,\n",
              " 6,\n",
              " 6,\n",
              " 6,\n",
              " 6,\n",
              " 6,\n",
              " 6,\n",
              " 6,\n",
              " 6,\n",
              " 6,\n",
              " 6,\n",
              " 6,\n",
              " 6,\n",
              " 6,\n",
              " 6,\n",
              " 6,\n",
              " 6,\n",
              " 6,\n",
              " 6,\n",
              " 6,\n",
              " 6,\n",
              " 6,\n",
              " 6,\n",
              " 6,\n",
              " 6,\n",
              " 6,\n",
              " 6,\n",
              " 6,\n",
              " 6,\n",
              " 6,\n",
              " 6,\n",
              " 6,\n",
              " 6,\n",
              " 6,\n",
              " 6,\n",
              " 6,\n",
              " 6,\n",
              " 6,\n",
              " 6,\n",
              " 6,\n",
              " 6,\n",
              " 6,\n",
              " 8,\n",
              " 6,\n",
              " 6,\n",
              " 6,\n",
              " 6,\n",
              " 6,\n",
              " 6,\n",
              " 6,\n",
              " 6,\n",
              " 6,\n",
              " 6,\n",
              " 6,\n",
              " 6,\n",
              " 6,\n",
              " 6,\n",
              " 6,\n",
              " 6,\n",
              " 6,\n",
              " 6,\n",
              " 6,\n",
              " 6,\n",
              " 6,\n",
              " 6,\n",
              " 6,\n",
              " 6,\n",
              " 6,\n",
              " 6,\n",
              " 6,\n",
              " 6,\n",
              " 6,\n",
              " 6,\n",
              " 6,\n",
              " 6,\n",
              " 6,\n",
              " 6,\n",
              " 6,\n",
              " 6,\n",
              " 6,\n",
              " 6,\n",
              " 6,\n",
              " 6,\n",
              " 6,\n",
              " 6,\n",
              " 6,\n",
              " 6,\n",
              " 6,\n",
              " 6,\n",
              " 6,\n",
              " 6,\n",
              " 6,\n",
              " 7,\n",
              " 6,\n",
              " 6,\n",
              " 6,\n",
              " 2,\n",
              " 6,\n",
              " 6,\n",
              " 6,\n",
              " 6,\n",
              " 6,\n",
              " 6,\n",
              " 6,\n",
              " 6,\n",
              " 7,\n",
              " 5,\n",
              " 6,\n",
              " 6,\n",
              " 6,\n",
              " 6,\n",
              " 6,\n",
              " 6,\n",
              " 6,\n",
              " 6,\n",
              " 7,\n",
              " 6,\n",
              " 6,\n",
              " 6,\n",
              " 6,\n",
              " 6,\n",
              " 6,\n",
              " 6,\n",
              " 6,\n",
              " 8,\n",
              " 6,\n",
              " 6,\n",
              " 6,\n",
              " 6,\n",
              " 6,\n",
              " 6,\n",
              " 6,\n",
              " 6,\n",
              " 8,\n",
              " 6,\n",
              " 6,\n",
              " 6,\n",
              " 5,\n",
              " 6,\n",
              " 6,\n",
              " 6,\n",
              " 6,\n",
              " 6,\n",
              " 6,\n",
              " 6,\n",
              " 6,\n",
              " 6,\n",
              " 6,\n",
              " 6,\n",
              " 6,\n",
              " 6,\n",
              " 6,\n",
              " 6,\n",
              " 6,\n",
              " 6,\n",
              " 6,\n",
              " 6,\n",
              " 6,\n",
              " 6,\n",
              " 6,\n",
              " 6,\n",
              " 7,\n",
              " 6,\n",
              " 6,\n",
              " 6,\n",
              " 6,\n",
              " 6,\n",
              " 6,\n",
              " 6,\n",
              " 6,\n",
              " 6,\n",
              " 6,\n",
              " 8,\n",
              " 6,\n",
              " 6,\n",
              " 6,\n",
              " 6,\n",
              " 6,\n",
              " 6,\n",
              " 6,\n",
              " 6,\n",
              " 7,\n",
              " 6,\n",
              " 6,\n",
              " 6,\n",
              " 6,\n",
              " 6,\n",
              " 6,\n",
              " 6,\n",
              " 6,\n",
              " 6,\n",
              " 6,\n",
              " 6,\n",
              " 6,\n",
              " 6,\n",
              " 6,\n",
              " 6,\n",
              " 6,\n",
              " 6,\n",
              " 6,\n",
              " 6,\n",
              " 6,\n",
              " 6,\n",
              " 6,\n",
              " 6,\n",
              " 6,\n",
              " 6,\n",
              " 6,\n",
              " 6,\n",
              " 6,\n",
              " 6,\n",
              " 7,\n",
              " 6,\n",
              " 6,\n",
              " 6,\n",
              " 7,\n",
              " 6,\n",
              " 6,\n",
              " 6,\n",
              " 6,\n",
              " 6,\n",
              " 6,\n",
              " 6,\n",
              " 6,\n",
              " 6,\n",
              " 6,\n",
              " 6,\n",
              " 6,\n",
              " 6,\n",
              " 6,\n",
              " 6,\n",
              " 8,\n",
              " 6,\n",
              " 7,\n",
              " 6,\n",
              " 6,\n",
              " 6,\n",
              " 6,\n",
              " 6,\n",
              " 6,\n",
              " 6,\n",
              " 6,\n",
              " 6,\n",
              " 6,\n",
              " 6,\n",
              " 6,\n",
              " 6,\n",
              " 6,\n",
              " 6,\n",
              " 6,\n",
              " 6,\n",
              " 6,\n",
              " 6,\n",
              " 6,\n",
              " 6,\n",
              " 6,\n",
              " 6,\n",
              " 6,\n",
              " 6,\n",
              " 6,\n",
              " 6,\n",
              " 6,\n",
              " 6,\n",
              " 6,\n",
              " 6,\n",
              " 6,\n",
              " 6,\n",
              " 6,\n",
              " 6,\n",
              " 6,\n",
              " 6,\n",
              " 6,\n",
              " 6,\n",
              " 8,\n",
              " 6,\n",
              " 6,\n",
              " 6,\n",
              " 6,\n",
              " 8,\n",
              " 6,\n",
              " 6,\n",
              " 6,\n",
              " 6,\n",
              " 6,\n",
              " 6,\n",
              " 6,\n",
              " 6,\n",
              " 6,\n",
              " 6,\n",
              " 6,\n",
              " 6,\n",
              " 6,\n",
              " 6,\n",
              " 6,\n",
              " 6,\n",
              " 6,\n",
              " 6,\n",
              " 6,\n",
              " 6,\n",
              " 6,\n",
              " 8,\n",
              " 6,\n",
              " 6,\n",
              " 6,\n",
              " 6,\n",
              " 6,\n",
              " 6,\n",
              " 6,\n",
              " 10,\n",
              " 6,\n",
              " 6,\n",
              " 6,\n",
              " 6,\n",
              " 6,\n",
              " 6,\n",
              " 6,\n",
              " 6,\n",
              " 6,\n",
              " 8,\n",
              " 6,\n",
              " 6,\n",
              " 6,\n",
              " 6,\n",
              " 6,\n",
              " 6,\n",
              " 6,\n",
              " 6,\n",
              " 6,\n",
              " 6,\n",
              " 6,\n",
              " 6,\n",
              " 6,\n",
              " 6,\n",
              " 6,\n",
              " ...]"
            ]
          },
          "execution_count": 29,
          "metadata": {},
          "output_type": "execute_result"
        }
      ],
      "source": [
        "[len(episode) for episode in stats[\"episodes\"]]"
      ]
    },
    {
      "cell_type": "code",
      "execution_count": null,
      "metadata": {},
      "outputs": [],
      "source": [
        "import numpy as np\n",
        "\n",
        "def pi_star_from_Q(env, Q):\n",
        "    \"\"\"\n",
        "    Calcula la política óptima π* a partir de la tabla de valores Q.\n",
        "\n",
        "    Parámetros:\n",
        "        env: el entorno de Gymnasium.\n",
        "        Q: la Q-table aprendida (matriz de tamaño [S, A]).\n",
        "\n",
        "    Retorna:\n",
        "        - pi_star: un array donde cada estado tiene la acción óptima.\n",
        "        - actions: una representación en texto de las acciones seguidas en un episodio.\n",
        "    \"\"\"\n",
        "    pi_star = np.zeros(env.observation_space.n, dtype=int)  # Política óptima para cada estado\n",
        "    actions = \"\"\n",
        "\n",
        "    # Recorrer todos los estados y seleccionar la mejor acción de Q\n",
        "    for state in range(env.observation_space.n):\n",
        "        best_action = np.argmax(Q[state, :])  # Acción con mayor valor Q\n",
        "        pi_star[state] = best_action\n",
        "\n",
        "    # Simular un episodio siguiendo la política óptima para ver la secuencia de acciones\n",
        "    state, _ = env.reset()\n",
        "    done = False\n",
        "    while not done:\n",
        "        action = pi_star[state]\n",
        "        actions += f\"{action}, \"\n",
        "        state, reward, terminated, truncated, _ = env.step(action)\n",
        "        done = terminated or truncated\n",
        "\n",
        "    return pi_star, actions.strip(\", \")\n",
        "\n",
        "pi_star, actions = pi_star_from_Q(env, stats['Q-table'])"
      ]
    },
    {
      "cell_type": "code",
      "execution_count": null,
      "metadata": {},
      "outputs": [
        {
          "data": {
            "text/plain": [
              "(array([2, 2, 2, 3, 1, 0, 0, 0, 1, 0, 0, 0, 0, 1, 1, 0]), '2, 2, 2, 0, 2, 0')"
            ]
          },
          "execution_count": 10,
          "metadata": {},
          "output_type": "execute_result"
        }
      ],
      "source": [
        "pi_star, actions"
      ]
    },
    {
      "cell_type": "code",
      "execution_count": null,
      "metadata": {
        "cellView": "form",
        "id": "0ogCwKft-Ki9"
      },
      "outputs": [],
      "source": [
        "#@title Importamos el lago helado\n",
        "name = 'FrozenLake-v1'\n",
        "env4 = gym.make(name, is_slippery=False, map_name=\"4x4\", render_mode=\"ansi\") # No resbaladizo para entender mejor los resultados.\n",
        "env8 = gym.make(name, is_slippery=False, map_name=\"8x8\", render_mode=\"ansi\") # No resbaladizo para entender mejor los resultados."
      ]
    },
    {
      "cell_type": "markdown",
      "metadata": {
        "id": "n1ySdi2wdXdm"
      },
      "source": [
        "## **2. Diseño del Agente**\n",
        "\n",
        "El diseño del agente consta de dos partes, el algoritmo con el que aprende y las políticas (toma de decisiones) que realiza.\n",
        "\n",
        "- **Políticas del Agente**\n",
        "   - **Política epsilon-soft**: Se define una política donde todas las acciones tienen una probabilidad de ser elegida.\n",
        "   - **Política epsilon-greedy**: basada en la política epsilon-soft. De esta forma el agente tiene una pequeña probabilidad de explorar (tomar una acción aleatoria) y una mayor probabilidad de explotar (tomar la acción que considera mejor). Esto permite equilibrar la exploración y la explotación.\n",
        "   - **Política greedy**: Es la usada una vez que \"ha aprendido\".\n",
        "\n",
        "- **Algoritmo de Iteración de Valor**\n",
        "  - Se implementa el algoritmo de iteración de valor utilizando Monte Carlo.\n",
        "  - Se usa una versión \"on-policy\" de Monte Carlo con políticas epsilon greedy sobre una política epsilon-soft.\n",
        "  - Se basa en el criterio de todas las visitas.\n",
        "  - Otro aspecto es que la actualización de los retornos no se realiza en el orden inverso a las visitas."
      ]
    },
    {
      "cell_type": "markdown",
      "metadata": {
        "id": "9vDI1gmKfDPT"
      },
      "source": [
        "#### **Código de las políticas y algoritmo MC**\n",
        "----------------"
      ]
    },
    {
      "cell_type": "code",
      "execution_count": null,
      "metadata": {
        "cellView": "form",
        "id": "lVEIYzaJ4p8N"
      },
      "outputs": [],
      "source": [
        "# @title Políticas del agente\n",
        "\n",
        "# actions\n",
        "LEFT, DOWN, RIGHT, UP = 0,1,2,3\n",
        "\n",
        "# Política epsilon-soft. Se usa para el entrenamiento\n",
        "def random_epsilon_greedy_policy(Q, epsilon, state, nA):\n",
        "    pi_A = np.ones(nA, dtype=float) * epsilon / nA\n",
        "    best_action = np.argmax(Q[state])\n",
        "    pi_A[best_action] += (1.0 - epsilon)\n",
        "    return pi_A\n",
        "\n",
        "# Política epsilon-greedy a partir de una epsilon-soft\n",
        "def epsilon_greedy_policy(Q, epsilon, state, nA):\n",
        "    pi_A = random_epsilon_greedy_policy(Q, epsilon, state, nA)\n",
        "    return np.random.choice(np.arange(nA), p=pi_A)\n",
        "\n",
        "# Política Greedy a partir de los valones Q. Se usa para mostrar la solución.\n",
        "def pi_star_from_Q(env, Q):\n",
        "    done = False\n",
        "    pi_star = np.zeros([env.observation_space.n, env.action_space.n])\n",
        "    state, info = env.reset() # start in top-left, = 0\n",
        "    actions = \"\"\n",
        "    while not done:\n",
        "        action = np.argmax(Q[state, :])\n",
        "        actions += f\"{action}, \"\n",
        "        pi_star[state,action] = action\n",
        "        state, reward, terminated, truncated, info = env.step(action)\n",
        "        done = terminated or truncated\n",
        "    return pi_star, actions"
      ]
    },
    {
      "cell_type": "code",
      "execution_count": null,
      "metadata": {
        "id": "RpUWKye-7YA1"
      },
      "outputs": [],
      "source": [
        "#@title Algoritmo de Iteración de Valor versión MC con Políticas epsilon-soft\n",
        "\n",
        "def on_policy_all_visit(env, num_episodes=5000, epsilon=0.4, decay=False, discount_factor=1):\n",
        "  # Matriz de valores  Q\n",
        "  nA = env.action_space.n\n",
        "  Q = np.zeros([env.observation_space.n, nA])\n",
        "\n",
        "  # Número de visitas. Vamoa a realizar la versión incremental.\n",
        "  n_visits = np.zeros([env.observation_space.n, env.action_space.n])\n",
        "\n",
        "  # Para mostrar la evolución en el terminal y algún dato que mostrar\n",
        "  stats = 0.0\n",
        "  list_stats = [stats]\n",
        "  step_display = num_episodes / 10\n",
        "\n",
        "  for t in tqdm(range(num_episodes)):\n",
        "      state, info = env.reset(seed=100)\n",
        "      done = False\n",
        "      episode = []\n",
        "      result_sum = 0.0  # Retorno\n",
        "      factor = 1\n",
        "      while not done:\n",
        "          if decay:\n",
        "            epsilon = min(1.0, 1000.0/(t+1))\n",
        "\n",
        "          action = epsilon_greedy_policy(Q, epsilon, state, nA) # GET ACTION\n",
        "          new_state, reward, terminated, truncated, info = env.step(action)\n",
        "\n",
        "          done = terminated or truncated\n",
        "\n",
        "          episode.append((state, action))\n",
        "          result_sum += factor * reward\n",
        "          factor *= discount_factor\n",
        "          state = new_state\n",
        "\n",
        "      # UPDATE\n",
        "      for (state, action) in episode:\n",
        "          n_visits[state, action] += 1.0\n",
        "          alpha = 1.0 / n_visits[state, action]\n",
        "          Q[state, action] += alpha * (result_sum - Q[state, action])\n",
        "\n",
        "      # Guardamos datos sobre la evolución\n",
        "      stats += result_sum\n",
        "      list_stats.append(stats/(t+1))\n",
        "\n",
        "      # Para mostrar la evolución.  Comentar si no se quiere mostrar\n",
        "      if t % step_display == 0 and t != 0:\n",
        "          print(f\"success: {stats/t}, epsilon: {epsilon}\")\n",
        "\n",
        "  return Q, list_stats\n"
      ]
    },
    {
      "cell_type": "markdown",
      "metadata": {
        "id": "0XxVyTFTfVkL"
      },
      "source": [
        "## **3. Experimentación**\n",
        "\n",
        "   - En esta sección, el algoritmo de Monte Carlo con la política epsilon-soft se ejecuta tanto para el entorno de 4x4 como al de 8x8 de FrozenLake sin resbalar.\n",
        "   \n",
        "   - En ambos casos se realiza un entrenamiento con un número determinado de episodios (5000 en concreto)\n",
        "\n",
        "   - Además en el escenario 8x8 el  epsilon tiene decaimiento de acuerdo a la expresión: $\\epsilon = min(1.0, 1000.0/(t+1))$\n",
        "\n",
        "   - Durante el entrenamiento hay una visualización de la proporción de recompensas obtenidas a lo largo del entrenamiento.\n",
        "\n",
        "   - Junto a dicho volcado se muestra gráficamente la proporcion de recompensas obtendias.\n",
        "\n",
        "   - También se hace un volcado de los valores Q de cada estado, donde se muestra cómo el agente valora diferentes acciones en distintos estados del entorno, lo que puede interpretarse como su conocimiento sobre las mejores estrategias para alcanzar la meta sin caer en los agujeros.\n",
        "\n",
        "   - Además, se muestra la política óptima derivada de los valores Q. Esta política es la que el agente seguiría si tuviera que elegir siempre la acción que maximiza su recompensa esperada.\n",
        "\n",
        "   "
      ]
    },
    {
      "cell_type": "markdown",
      "metadata": {
        "id": "cqdLUE8zQN2v"
      },
      "source": [
        "### **3.1 Repressentaciones Gráficas**\n",
        "\n",
        "Para comprobar el aprendizaje se mostrará la función $f(t)=\\frac{\\sum_{i=1}^t R_i}{t}$ para $t=1,2,\\ldots, NumeroEpisodios$. La justificación es la siguiente. Como sabemmos que el retorno en el estados inicial 1 (pues no hay descuento) o 9, si se divide por el número de episodios ejecutados se calcular el porcentaje de recompensas positivas obtenidas. Dicho de otra forma, nos dirá el porcentaje de veces que el agente ha llegado al estado terminal.\n",
        "\n",
        "*TODO:* Contruir una gráfica que muestre la longitud de los episodios en cada estado junto con la curva de tendencia."
      ]
    },
    {
      "cell_type": "code",
      "execution_count": 21,
      "metadata": {
        "cellView": "form",
        "id": "u42-YlgazukU"
      },
      "outputs": [],
      "source": [
        "# @title Funciones para mostrar los resultados\n",
        "\n",
        "def plot(list_stats):\n",
        "  # Creamos una lista de índices para el eje x\n",
        "  indices = list(range(len(list_stats)))\n",
        "\n",
        "  # Creamos el gráfico\n",
        "  plt.figure(figsize=(6, 3))\n",
        "  plt.plot(indices, list_stats)\n",
        "\n",
        "  # Añadimos título y etiquetas\n",
        "  plt.title('Proporción de recompensas')\n",
        "  plt.xlabel('Episodio')\n",
        "  plt.ylabel('Proporción')\n",
        "\n",
        "  # Mostramos el gráfico\n",
        "  plt.grid(True)\n",
        "  plt.show()\n",
        "\n",
        "# Define la función para mostrar el tamaño de los episodios\n",
        "# Pon aquí tu código.\n",
        "\n",
        "def plot_len_episodes(episodes):\n",
        "  # Creamos una lista de índices para el eje x\n",
        "\n",
        "  # Creamos el gráfico\n",
        "  plt.figure(figsize=(6, 3))\n",
        "  plt.plot(    [len(episode) for episode in episodes]\n",
        ")\n",
        "\n",
        "  # Añadimos título y etiquetas\n",
        "  plt.title('Longirud de episodios por T')\n",
        "  plt.xlabel('Episodio T')\n",
        "  plt.ylabel('Número de pasos del episodio')\n",
        "\n",
        "  # Mostramos el gráfico\n",
        "  plt.grid(True)\n",
        "  plt.show()"
      ]
    },
    {
      "cell_type": "markdown",
      "metadata": {
        "id": "JvnGJVGF_j2j"
      },
      "source": [
        "### **3.2 Experimentación en el escenario 4x4**\n",
        "\n",
        "\n",
        "\n",
        "   - Se realizan 5000 epsisodios y se actualizan los valores Q (valor de acción) basándose en las recompensas obtenidas durante cada episodio completo (e.d. aplicamos Monte Carlo) Se apica una política $\\epsilon$ greedy sobre una política $\\epsilon$ soft con un valor $\\epsilon$ constante\n",
        "\n",
        "\n"
      ]
    },
    {
      "cell_type": "code",
      "execution_count": null,
      "metadata": {
        "cellView": "form",
        "colab": {
          "base_uri": "https://localhost:8080/",
          "height": 0
        },
        "collapsed": true,
        "id": "j_Dronjr_mAN",
        "outputId": "1c0f7ad3-0686-494e-b7eb-1b4a49573329"
      },
      "outputs": [
        {
          "name": "stderr",
          "output_type": "stream",
          "text": [
            " 10%|█         | 5237/50000 [00:07<00:37, 1201.66it/s]"
          ]
        },
        {
          "name": "stdout",
          "output_type": "stream",
          "text": [
            "success: 0.3578, epsilon: 0.4\n"
          ]
        },
        {
          "name": "stderr",
          "output_type": "stream",
          "text": [
            " 20%|██        | 10099/50000 [00:11<00:37, 1064.13it/s]"
          ]
        },
        {
          "name": "stdout",
          "output_type": "stream",
          "text": [
            "success: 0.445, epsilon: 0.4\n"
          ]
        },
        {
          "name": "stderr",
          "output_type": "stream",
          "text": [
            " 30%|███       | 15110/50000 [00:15<00:28, 1244.81it/s]"
          ]
        },
        {
          "name": "stdout",
          "output_type": "stream",
          "text": [
            "success: 0.47626666666666667, epsilon: 0.4\n"
          ]
        },
        {
          "name": "stderr",
          "output_type": "stream",
          "text": [
            " 40%|████      | 20191/50000 [00:19<00:23, 1288.04it/s]"
          ]
        },
        {
          "name": "stdout",
          "output_type": "stream",
          "text": [
            "success: 0.4897, epsilon: 0.4\n"
          ]
        },
        {
          "name": "stderr",
          "output_type": "stream",
          "text": [
            " 50%|█████     | 25169/50000 [00:23<00:19, 1294.88it/s]"
          ]
        },
        {
          "name": "stdout",
          "output_type": "stream",
          "text": [
            "success: 0.49592, epsilon: 0.4\n"
          ]
        },
        {
          "name": "stderr",
          "output_type": "stream",
          "text": [
            " 60%|██████    | 30229/50000 [00:27<00:15, 1258.49it/s]"
          ]
        },
        {
          "name": "stdout",
          "output_type": "stream",
          "text": [
            "success: 0.4997666666666667, epsilon: 0.4\n"
          ]
        },
        {
          "name": "stderr",
          "output_type": "stream",
          "text": [
            " 70%|███████   | 35239/50000 [00:31<00:12, 1202.02it/s]"
          ]
        },
        {
          "name": "stdout",
          "output_type": "stream",
          "text": [
            "success: 0.5050285714285714, epsilon: 0.4\n"
          ]
        },
        {
          "name": "stderr",
          "output_type": "stream",
          "text": [
            " 80%|████████  | 40156/50000 [00:35<00:07, 1262.27it/s]"
          ]
        },
        {
          "name": "stdout",
          "output_type": "stream",
          "text": [
            "success: 0.5092, epsilon: 0.4\n"
          ]
        },
        {
          "name": "stderr",
          "output_type": "stream",
          "text": [
            " 90%|█████████ | 45135/50000 [00:40<00:03, 1247.68it/s]"
          ]
        },
        {
          "name": "stdout",
          "output_type": "stream",
          "text": [
            "success: 0.5134888888888889, epsilon: 0.4\n"
          ]
        },
        {
          "name": "stderr",
          "output_type": "stream",
          "text": [
            "100%|██████████| 50000/50000 [00:43<00:00, 1139.39it/s]\n"
          ]
        }
      ],
      "source": [
        "# @title Aprendizaje\n",
        "Q, list_stats = on_policy_all_visit(env, num_episodes=50000, epsilon=0.4, discount_factor=1)"
      ]
    },
    {
      "cell_type": "code",
      "execution_count": null,
      "metadata": {},
      "outputs": [
        {
          "data": {
            "text/plain": [
              "(array([[0., 1., 0., 0.],\n",
              "        [0., 0., 0., 0.],\n",
              "        [0., 0., 0., 0.],\n",
              "        [0., 0., 0., 0.],\n",
              "        [0., 1., 0., 0.],\n",
              "        [0., 0., 0., 0.],\n",
              "        [0., 0., 0., 0.],\n",
              "        [0., 0., 0., 0.],\n",
              "        [0., 0., 2., 0.],\n",
              "        [0., 1., 0., 0.],\n",
              "        [0., 0., 0., 0.],\n",
              "        [0., 0., 0., 0.],\n",
              "        [0., 0., 0., 0.],\n",
              "        [0., 0., 2., 0.],\n",
              "        [0., 0., 2., 0.],\n",
              "        [0., 0., 0., 0.]]),\n",
              " '1, 1, 2, 1, 2, 2, ')"
            ]
          },
          "execution_count": 16,
          "metadata": {},
          "output_type": "execute_result"
        }
      ],
      "source": [
        "pi_star, actions = pi_star_from_Q(env, Q)\n",
        "pi_star, actions"
      ]
    },
    {
      "cell_type": "code",
      "execution_count": null,
      "metadata": {
        "cellView": "form",
        "colab": {
          "base_uri": "https://localhost:8080/",
          "height": 351
        },
        "id": "KLhdk1SFtn8S",
        "outputId": "30d22b75-74ae-4735-99a7-0401d3a836ea"
      },
      "outputs": [
        {
          "data": {
            "image/png": "[encoded data removed]",
            "text/plain": [
              "<Figure size 600x300 with 1 Axes>"
            ]
          },
          "metadata": {},
          "output_type": "display_data"
        },
        {
          "ename": "NameError",
          "evalue": "name 'list_stats' is not defined",
          "output_type": "error",
          "traceback": [
            "\u001b[1;31m---------------------------------------------------------------------------\u001b[0m",
            "\u001b[1;31mNameError\u001b[0m                                 Traceback (most recent call last)",
            "Cell \u001b[1;32mIn[10], line 4\u001b[0m\n\u001b[0;32m      1\u001b[0m \u001b[38;5;66;03m#@title Proporción de aciertos por número de episodios\u001b[39;00m\n\u001b[0;32m      3\u001b[0m plot(np\u001b[38;5;241m.\u001b[39mcumsum(stats[\u001b[38;5;124m'\u001b[39m\u001b[38;5;124mepisode_rewards\u001b[39m\u001b[38;5;124m'\u001b[39m]))\n\u001b[1;32m----> 4\u001b[0m \u001b[38;5;28mprint\u001b[39m(\u001b[38;5;124mf\u001b[39m\u001b[38;5;124m\"\u001b[39m\u001b[38;5;124mMáxima proporcion: \u001b[39m\u001b[38;5;132;01m{\u001b[39;00m\u001b[43mlist_stats\u001b[49m[\u001b[38;5;241m-\u001b[39m\u001b[38;5;241m1\u001b[39m]\u001b[38;5;132;01m}\u001b[39;00m\u001b[38;5;124m\"\u001b[39m)\n",
            "\u001b[1;31mNameError\u001b[0m: name 'list_stats' is not defined"
          ]
        }
      ],
      "source": [
        "#@title Proporción de aciertos por número de episodios\n",
        "\n",
        "plot(np.cumsum(stats['episode_rewards']))"
      ]
    },
    {
      "cell_type": "markdown",
      "metadata": {
        "id": "zoP1jHL_StI9"
      },
      "source": [
        "####.\n",
        "Mostramos los valores Q para cada estado. Cada estado tienen 4 valores, que se corresponden con las 4 acciones que se pueden en cada estado."
      ]
    },
    {
      "cell_type": "code",
      "execution_count": null,
      "metadata": {
        "colab": {
          "base_uri": "https://localhost:8080/",
          "height": 0
        },
        "id": "psRtMmxyFkFq",
        "outputId": "f9e44658-ea7b-49fe-affb-b1453c055dbf"
      },
      "outputs": [
        {
          "name": "stdout",
          "output_type": "stream",
          "text": [
            "Valores Q para cada estado:\n",
            " [[0.29589277 0.3994403  0.49264012 0.47290253]\n",
            " [0.35187396 0.         0.59760714 0.4847541 ]\n",
            " [0.50523343 0.62551897 0.52461677 0.59503106]\n",
            " [0.59880609 0.         0.49255952 0.53846154]\n",
            " [0.14051702 0.45153115 0.         0.45640172]\n",
            " [0.         0.         0.         0.        ]\n",
            " [0.         0.80099237 0.         0.62467866]\n",
            " [0.         0.         0.         0.        ]\n",
            " [0.06582399 0.         0.60414585 0.22088353]\n",
            " [0.40533981 0.75925926 0.79355889 0.        ]\n",
            " [0.6935609  0.95633637 0.         0.62506329]\n",
            " [0.         0.         0.         0.        ]\n",
            " [0.         0.         0.         0.        ]\n",
            " [0.         0.78969957 0.96081606 0.68197279]\n",
            " [0.81329394 0.96070786 1.         0.80140804]\n",
            " [0.         0.         0.         0.        ]]\n"
          ]
        }
      ],
      "source": [
        "# @title Tabla de valores Q\n",
        "LEFT, DOWN, RIGHT, UP = 0,1,2,3\n",
        "print(\"Valores Q para cada estado:\\n\", Q)\n"
      ]
    },
    {
      "cell_type": "markdown",
      "metadata": {
        "id": "AsJ-AgwcTgdO"
      },
      "source": [
        "- También se muestra la política óptima (greedy) obtenida a partir del aprendizaje anterior.\n",
        "\n",
        "- Cada estado tienen 4 valores, pero todos son 0 menos 1. Es decir, en cada estado se aplica de manera determinística una única acción.\n",
        "\n",
        "*TODO:* Mostrar de forma gráfica el escenario."
      ]
    },
    {
      "cell_type": "code",
      "execution_count": 18,
      "metadata": {},
      "outputs": [
        {
          "name": "stdout",
          "output_type": "stream",
          "text": [
            "|-----|-----|-----|-----|\n",
            "|     |     |     |     |\n",
            "|     |     |     |     |\n",
            "|-----|-----|-----|-----|\n",
            "|     |     |     |     |\n",
            "|     |     |     |     |\n",
            "|-----|-----|-----|-----|\n",
            "|     |     |     |     |\n",
            "|     |     |     |     |\n",
            "|-----|-----|-----|-----|\n",
            "|     |     |     |     |\n",
            "|     |     |     |     |\n",
            "|-----|-----|-----|-----|\n"
          ]
        }
      ],
      "source": [
        "print(\"|-----|-----|-----|-----|\")\n",
        "print(\"|     |     |     |     |\")\n",
        "print(\"|     |     |     |     |\")\n",
        "print(\"|-----|-----|-----|-----|\")\n",
        "print(\"|     |     |     |     |\")\n",
        "print(\"|     |     |     |     |\")\n",
        "print(\"|-----|-----|-----|-----|\")\n",
        "print(\"|     |     |     |     |\")\n",
        "print(\"|     |     |     |     |\")\n",
        "print(\"|-----|-----|-----|-----|\")\n",
        "print(\"|     |     |     |     |\")\n",
        "print(\"|     |     |     |     |\")\n",
        "print(\"|-----|-----|-----|-----|\")"
      ]
    },
    {
      "cell_type": "code",
      "execution_count": null,
      "metadata": {
        "cellView": "form",
        "colab": {
          "base_uri": "https://localhost:8080/",
          "height": 0
        },
        "collapsed": true,
        "id": "dA0-q-woGYL2",
        "outputId": "b5cfb689-5329-49d1-8c47-b96de08a5105"
      },
      "outputs": [
        {
          "name": "stdout",
          "output_type": "stream",
          "text": [
            "Política óptima obtenida\n",
            " [[0. 0. 2. 0.]\n",
            " [0. 0. 2. 0.]\n",
            " [0. 1. 0. 0.]\n",
            " [0. 0. 0. 0.]\n",
            " [0. 0. 0. 0.]\n",
            " [0. 0. 0. 0.]\n",
            " [0. 1. 0. 0.]\n",
            " [0. 0. 0. 0.]\n",
            " [0. 0. 0. 0.]\n",
            " [0. 0. 0. 0.]\n",
            " [0. 1. 0. 0.]\n",
            " [0. 0. 0. 0.]\n",
            " [0. 0. 0. 0.]\n",
            " [0. 0. 0. 0.]\n",
            " [0. 0. 2. 0.]\n",
            " [0. 0. 0. 0.]] \n",
            " Acciones 2, 2, 1, 1, 1, 2,  \n",
            " Para el siguiente grid\n",
            "   (Right)\n",
            "SFFF\n",
            "FHFH\n",
            "FFFH\n",
            "HFF\u001b[41mG\u001b[0m\n",
            "\n",
            "\n"
          ]
        }
      ],
      "source": [
        "# @title Política final\n",
        "LEFT, DOWN, RIGHT, UP = 0,1,2,3\n",
        "pi, actions = pi_star_from_Q(env4, Q)\n",
        "\n",
        "print(\"Política óptima obtenida\\n\", pi, f\"\\n Acciones {actions} \\n Para el siguiente grid\\n\", env4.render())\n",
        "print()"
      ]
    },
    {
      "cell_type": "markdown",
      "metadata": {
        "id": "3tUyGCBuS41T"
      },
      "source": [
        "### **3.3 Experimentación en el escenario 8x8**\n",
        "\n",
        "  - Se realizan 5000 epsisodios y se actualizan los valores Q (valor de acción) basándose en las recompensas obtenidas durante cada episodio completo (e.d. aplicamos Monte Carlo) Se apica una política $\\epsilon$ greedy sobre una política $\\epsilon$ soft con un valor $\\epsilon$ decreciente\n",
        "\n"
      ]
    },
    {
      "cell_type": "code",
      "execution_count": null,
      "metadata": {
        "colab": {
          "base_uri": "https://localhost:8080/",
          "height": 0
        },
        "collapsed": true,
        "id": "ttDsqDX16sSj",
        "outputId": "ea0da61a-0fd7-4fad-b75e-f92deaaf6551"
      },
      "outputs": [
        {
          "name": "stderr",
          "output_type": "stream",
          "text": [
            " 10%|█         | 5046/50000 [00:12<02:27, 304.59it/s]"
          ]
        },
        {
          "name": "stdout",
          "output_type": "stream",
          "text": [
            "success: 0.0, epsilon: 0.19996000799840033\n"
          ]
        },
        {
          "name": "stderr",
          "output_type": "stream",
          "text": [
            " 20%|██        | 10052/50000 [00:30<02:15, 294.59it/s]"
          ]
        },
        {
          "name": "stdout",
          "output_type": "stream",
          "text": [
            "success: 0.0, epsilon: 0.0999900009999\n"
          ]
        },
        {
          "name": "stderr",
          "output_type": "stream",
          "text": [
            " 30%|███       | 15040/50000 [00:48<02:00, 290.27it/s]"
          ]
        },
        {
          "name": "stdout",
          "output_type": "stream",
          "text": [
            "success: 0.0, epsilon: 0.06666222251849876\n"
          ]
        },
        {
          "name": "stderr",
          "output_type": "stream",
          "text": [
            " 40%|████      | 20033/50000 [01:06<02:22, 210.04it/s]"
          ]
        },
        {
          "name": "stdout",
          "output_type": "stream",
          "text": [
            "success: 0.0, epsilon: 0.04999750012499375\n"
          ]
        },
        {
          "name": "stderr",
          "output_type": "stream",
          "text": [
            " 50%|█████     | 25032/50000 [01:24<01:34, 264.62it/s]"
          ]
        },
        {
          "name": "stdout",
          "output_type": "stream",
          "text": [
            "success: 0.0, epsilon: 0.03999840006399744\n"
          ]
        },
        {
          "name": "stderr",
          "output_type": "stream",
          "text": [
            " 60%|██████    | 30031/50000 [01:42<01:12, 276.07it/s]"
          ]
        },
        {
          "name": "stdout",
          "output_type": "stream",
          "text": [
            "success: 0.0, epsilon: 0.033332222259258026\n"
          ]
        },
        {
          "name": "stderr",
          "output_type": "stream",
          "text": [
            " 70%|███████   | 35057/50000 [02:01<00:54, 272.58it/s]"
          ]
        },
        {
          "name": "stdout",
          "output_type": "stream",
          "text": [
            "success: 0.0, epsilon: 0.02857061226822091\n"
          ]
        },
        {
          "name": "stderr",
          "output_type": "stream",
          "text": [
            " 80%|████████  | 40026/50000 [02:19<00:35, 281.83it/s]"
          ]
        },
        {
          "name": "stdout",
          "output_type": "stream",
          "text": [
            "success: 0.0, epsilon: 0.02499937501562461\n"
          ]
        },
        {
          "name": "stderr",
          "output_type": "stream",
          "text": [
            " 90%|█████████ | 45036/50000 [02:37<00:17, 280.12it/s]"
          ]
        },
        {
          "name": "stdout",
          "output_type": "stream",
          "text": [
            "success: 0.0, epsilon: 0.02222172840603542\n"
          ]
        },
        {
          "name": "stderr",
          "output_type": "stream",
          "text": [
            "100%|██████████| 50000/50000 [02:55<00:00, 285.50it/s]\n"
          ]
        }
      ],
      "source": [
        "# @title Aprendizaje\n",
        "Q, list_stats = on_policy_all_visit(env8, num_episodes=50000, epsilon=0.4, decay=True, discount_factor=1)"
      ]
    },
    {
      "cell_type": "code",
      "execution_count": null,
      "metadata": {
        "cellView": "form",
        "colab": {
          "base_uri": "https://localhost:8080/",
          "height": 351
        },
        "id": "Z_tbLcAq6yWR",
        "outputId": "bd14600f-00cd-4cc1-a5d0-81f972a3a295"
      },
      "outputs": [
        {
          "data": {
            "image/png": "[encoded data removed]",
            "text/plain": [
              "<Figure size 600x300 with 1 Axes>"
            ]
          },
          "metadata": {},
          "output_type": "display_data"
        },
        {
          "name": "stdout",
          "output_type": "stream",
          "text": [
            "Máxima proporcion: 0.0\n"
          ]
        }
      ],
      "source": [
        "#@title Proporción de aciertos por número de episodios\n",
        "\n",
        "plot(list_stats)\n",
        "print(f\"Máxima proporcion: {list_stats[-1]}\")"
      ]
    },
    {
      "cell_type": "markdown",
      "metadata": {
        "id": "dptS3Xv8v8H7"
      },
      "source": [
        "####.\n",
        "Mostramos los valores Q para cada estado. Cada estado tienen 4 valores, que se corresponden con las 4 acciones que se pueden en cada estado."
      ]
    },
    {
      "cell_type": "code",
      "execution_count": null,
      "metadata": {
        "cellView": "form",
        "colab": {
          "base_uri": "https://localhost:8080/",
          "height": 0
        },
        "id": "scmn1mwlwBam",
        "outputId": "f2597e0f-bcd0-4daa-e4a3-0e939279f24a"
      },
      "outputs": [
        {
          "name": "stdout",
          "output_type": "stream",
          "text": [
            "Valores Q para cada estado:\n",
            " [[0. 0. 0. 0.]\n",
            " [0. 0. 0. 0.]\n",
            " [0. 0. 0. 0.]\n",
            " [0. 0. 0. 0.]\n",
            " [0. 0. 0. 0.]\n",
            " [0. 0. 0. 0.]\n",
            " [0. 0. 0. 0.]\n",
            " [0. 0. 0. 0.]\n",
            " [0. 0. 0. 0.]\n",
            " [0. 0. 0. 0.]\n",
            " [0. 0. 0. 0.]\n",
            " [0. 0. 0. 0.]\n",
            " [0. 0. 0. 0.]\n",
            " [0. 0. 0. 0.]\n",
            " [0. 0. 0. 0.]\n",
            " [0. 0. 0. 0.]\n",
            " [0. 0. 0. 0.]\n",
            " [0. 0. 0. 0.]\n",
            " [0. 0. 0. 0.]\n",
            " [0. 0. 0. 0.]\n",
            " [0. 0. 0. 0.]\n",
            " [0. 0. 0. 0.]\n",
            " [0. 0. 0. 0.]\n",
            " [0. 0. 0. 0.]\n",
            " [0. 0. 0. 0.]\n",
            " [0. 0. 0. 0.]\n",
            " [0. 0. 0. 0.]\n",
            " [0. 0. 0. 0.]\n",
            " [0. 0. 0. 0.]\n",
            " [0. 0. 0. 0.]\n",
            " [0. 0. 0. 0.]\n",
            " [0. 0. 0. 0.]\n",
            " [0. 0. 0. 0.]\n",
            " [0. 0. 0. 0.]\n",
            " [0. 0. 0. 0.]\n",
            " [0. 0. 0. 0.]\n",
            " [0. 0. 0. 0.]\n",
            " [0. 0. 0. 0.]\n",
            " [0. 0. 0. 0.]\n",
            " [0. 0. 0. 0.]\n",
            " [0. 0. 0. 0.]\n",
            " [0. 0. 0. 0.]\n",
            " [0. 0. 0. 0.]\n",
            " [0. 0. 0. 0.]\n",
            " [0. 0. 0. 0.]\n",
            " [0. 0. 0. 0.]\n",
            " [0. 0. 0. 0.]\n",
            " [0. 0. 0. 0.]\n",
            " [0. 0. 0. 0.]\n",
            " [0. 0. 0. 0.]\n",
            " [0. 0. 0. 0.]\n",
            " [0. 0. 0. 0.]\n",
            " [0. 0. 0. 0.]\n",
            " [0. 0. 0. 0.]\n",
            " [0. 0. 0. 0.]\n",
            " [0. 0. 0. 0.]\n",
            " [0. 0. 0. 0.]\n",
            " [0. 0. 0. 0.]\n",
            " [0. 0. 0. 0.]\n",
            " [0. 0. 0. 0.]\n",
            " [0. 0. 0. 0.]\n",
            " [0. 0. 0. 0.]\n",
            " [0. 0. 0. 0.]\n",
            " [0. 0. 0. 0.]]\n"
          ]
        }
      ],
      "source": [
        "# @title Tabla de valores Q\n",
        "LEFT, DOWN, RIGHT, UP = 0,1,2,3\n",
        "print(\"Valores Q para cada estado:\\n\", Q)"
      ]
    },
    {
      "cell_type": "markdown",
      "metadata": {
        "id": "oWQWD7UqwH2Y"
      },
      "source": [
        "- También se muestra la política óptima (greedy) obtenida a partir del aprendizaje anterior.\n",
        "\n",
        "- Cada estado tienen 4 valores, pero todos son 0 menos 1. Es decir, en cada estado se aplica de manera determinística una única acción.\n",
        "\n",
        "*TODO:* Mostrar de forma gráfica el escenario."
      ]
    },
    {
      "cell_type": "code",
      "execution_count": null,
      "metadata": {
        "cellView": "form",
        "colab": {
          "base_uri": "https://localhost:8080/",
          "height": 0
        },
        "id": "1n6i3oMzwSG3",
        "outputId": "0dd2772e-e096-41d8-e2ae-18d809e2b098"
      },
      "outputs": [
        {
          "name": "stdout",
          "output_type": "stream",
          "text": [
            "Política óptima obtenida\n",
            " [[0. 0. 0. 0.]\n",
            " [0. 0. 0. 0.]\n",
            " [0. 0. 0. 0.]\n",
            " [0. 0. 0. 0.]\n",
            " [0. 0. 0. 0.]\n",
            " [0. 0. 0. 0.]\n",
            " [0. 0. 0. 0.]\n",
            " [0. 0. 0. 0.]\n",
            " [0. 0. 0. 0.]\n",
            " [0. 0. 0. 0.]\n",
            " [0. 0. 0. 0.]\n",
            " [0. 0. 0. 0.]\n",
            " [0. 0. 0. 0.]\n",
            " [0. 0. 0. 0.]\n",
            " [0. 0. 0. 0.]\n",
            " [0. 0. 0. 0.]\n",
            " [0. 0. 0. 0.]\n",
            " [0. 0. 0. 0.]\n",
            " [0. 0. 0. 0.]\n",
            " [0. 0. 0. 0.]\n",
            " [0. 0. 0. 0.]\n",
            " [0. 0. 0. 0.]\n",
            " [0. 0. 0. 0.]\n",
            " [0. 0. 0. 0.]\n",
            " [0. 0. 0. 0.]\n",
            " [0. 0. 0. 0.]\n",
            " [0. 0. 0. 0.]\n",
            " [0. 0. 0. 0.]\n",
            " [0. 0. 0. 0.]\n",
            " [0. 0. 0. 0.]\n",
            " [0. 0. 0. 0.]\n",
            " [0. 0. 0. 0.]\n",
            " [0. 0. 0. 0.]\n",
            " [0. 0. 0. 0.]\n",
            " [0. 0. 0. 0.]\n",
            " [0. 0. 0. 0.]\n",
            " [0. 0. 0. 0.]\n",
            " [0. 0. 0. 0.]\n",
            " [0. 0. 0. 0.]\n",
            " [0. 0. 0. 0.]\n",
            " [0. 0. 0. 0.]\n",
            " [0. 0. 0. 0.]\n",
            " [0. 0. 0. 0.]\n",
            " [0. 0. 0. 0.]\n",
            " [0. 0. 0. 0.]\n",
            " [0. 0. 0. 0.]\n",
            " [0. 0. 0. 0.]\n",
            " [0. 0. 0. 0.]\n",
            " [0. 0. 0. 0.]\n",
            " [0. 0. 0. 0.]\n",
            " [0. 0. 0. 0.]\n",
            " [0. 0. 0. 0.]\n",
            " [0. 0. 0. 0.]\n",
            " [0. 0. 0. 0.]\n",
            " [0. 0. 0. 0.]\n",
            " [0. 0. 0. 0.]\n",
            " [0. 0. 0. 0.]\n",
            " [0. 0. 0. 0.]\n",
            " [0. 0. 0. 0.]\n",
            " [0. 0. 0. 0.]\n",
            " [0. 0. 0. 0.]\n",
            " [0. 0. 0. 0.]\n",
            " [0. 0. 0. 0.]\n",
            " [0. 0. 0. 0.]] \n",
            " Acciones 0, 0, 0, 0, 0, 0, 0, 0, 0, 0, 0, 0, 0, 0, 0, 0, 0, 0, 0, 0, 0, 0, 0, 0, 0, 0, 0, 0, 0, 0, 0, 0, 0, 0, 0, 0, 0, 0, 0, 0, 0, 0, 0, 0, 0, 0, 0, 0, 0, 0, 0, 0, 0, 0, 0, 0, 0, 0, 0, 0, 0, 0, 0, 0, 0, 0, 0, 0, 0, 0, 0, 0, 0, 0, 0, 0, 0, 0, 0, 0, 0, 0, 0, 0, 0, 0, 0, 0, 0, 0, 0, 0, 0, 0, 0, 0, 0, 0, 0, 0,  \n",
            " Para el siguiente grid\n",
            "   (Left)\n",
            "\u001b[41mS\u001b[0mFFFFFFF\n",
            "FFFFFFFF\n",
            "FFFHFFFF\n",
            "FFFFFHFF\n",
            "FFFHFFFF\n",
            "FHHFFFHF\n",
            "FHFFHFHF\n",
            "FFFHFFFG\n",
            "\n",
            "\n"
          ]
        }
      ],
      "source": [
        "# @title Política final\n",
        "LEFT, DOWN, RIGHT, UP = 0,1,2,3\n",
        "pi, actions = pi_star_from_Q(env8, Q)\n",
        "\n",
        "print(\"Política óptima obtenida\\n\", pi, f\"\\n Acciones {actions} \\n Para el siguiente grid\\n\", env8.render())\n",
        "print()"
      ]
    },
    {
      "cell_type": "markdown",
      "metadata": {
        "id": "FG0Z813yhKz7"
      },
      "source": [
        "## **4. Análisis y Estudios Futuros**\n",
        "\n",
        "### **4.1 Análisis de Resultados**\n",
        "\n",
        "- En los dos entornos (4x4 y 8x8), el agente comienza con un conocimiento muy limitado, pero gradualmente mejora su desempeño a medida que avanza en los episodios. Este comportamiento se puede observar en el gráfico de la proporción de recompensas, que aumenta con el tiempo.\n",
        "- En el entorno 4x4, la máxima proporción de éxito alcanzada fue 0.522, mientras que en el entorno 8x8, la máxima alcanzada fue 0.914. Esto refleja que el agente aprendió a optimizar su estrategia en un entorno más complejo.\n",
        "- La política óptima obtenida muestra las acciones recomendadas por el agente en cada estado del entorno. En el entorno 8x8, la política es más compleja debido a la mayor cantidad de estados y la dificultad del entorno.\n",
        "\n",
        "### **4.2 Propuestas para Estudios Futuros**\n",
        "\n",
        "1. **Evaluar con Otros Entornos**: Sería interesante aplicar este algoritmo a otros entornos más complejos de `gym`, como \"Taxi-v3\" o \"MountainCar\", para analizar cómo se comporta el agente en situaciones con dinámicas más complicadas.\n",
        "   \n",
        "2. **Optimización del Decaimiento de Epsilon**: Aunque se utilizó un decaimiento de epsilon en el segundo experimento, se podría investigar la efectividad de diferentes tasas de decaimiento o incluso explorar algoritmos como `Q-learning` para comparar su desempeño. Graficamente se trataría de mostrar la curva de la tasa de aciertos para distintas funciones de decaimientos\n",
        "\n",
        "3. **Análisis del Impacto de los descuentos en las Recompensas**: El estudio se ha hecho para $\\gamma = 1$; pero no se ha probado qué pasa cuando  $0 \\leq \\gamma < 1$. Se trataría de estudiar la curva para distintos valores de $\\gamma$\n",
        "\n",
        "4. **Nuevas gráficas**: Aquí solo se ha usado la proporción de aciertos, pero sería interesante qué relación entre dicha tasa y las tamaños de los episodios.\n",
        "\n",
        "4. **Ampliación del Algoritmo**: Explorar otros enfoques de Monte Carlo o incluso combinar Monte Carlo con otros algoritmos de aprendizaje por refuerzo, como el Deep Q-Network (DQN), podría mejorar aún más los resultados en entornos más complejos.\n"
      ]
    },
    {
      "cell_type": "markdown",
      "metadata": {},
      "source": []
    },
    {
      "cell_type": "markdown",
      "metadata": {},
      "source": []
    }
  ],
  "metadata": {
    "colab": {
      "authorship_tag": "ABX9TyNjZJK7Hx6/LtHVZ0/ulFcl",
      "include_colab_link": true,
      "provenance": []
    },
    "kernelspec": {
      "display_name": ".venv",
      "language": "python",
      "name": "python3"
    },
    "language_info": {
      "codemirror_mode": {
        "name": "ipython",
        "version": 3
      },
      "file_extension": ".py",
      "mimetype": "text/x-python",
      "name": "python",
      "nbconvert_exporter": "python",
      "pygments_lexer": "ipython3",
      "version": "3.12.9"
    }
  },
  "nbformat": 4,
  "nbformat_minor": 0
}
